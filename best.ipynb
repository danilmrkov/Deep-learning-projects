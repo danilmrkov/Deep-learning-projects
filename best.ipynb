{
 "cells": [
  {
   "cell_type": "markdown",
   "metadata": {
    "colab_type": "text",
    "id": "3byOBDxkWvLs"
   },
   "source": [
    "## Хакатон по распознаванию хот-догов. \n",
    "По мотивам крутейшего стартапа из сериала \"кремниевая долина\"!\n",
    "\n",
    "https://www.youtube.com/watch?v=pqTntG1RXSY\n",
    "\n",
    "\n",
    "Ваша задача: сделать революционный классификатор, который сразил большинство инвесторов и гиков из кремниевой долины не один раз!\n",
    "\n",
    "Точнее, вам необходимо предсказать, есть на изображении хот-дог или нет. В файл с решением необходимо записать вероятность того, что на изображении **есть хот-дог**.\n",
    "\n",
    "Качество модели будет измеряться с помощью метрики AUC-ROC, публичный лидерборд (рейтинговая таблица соревнования на платформе kaggle) будет строиться по 50% наблюдений. \n",
    "\n",
    "Чуть подробнее про публичный и приватный лидерборд: вам дана тестовая выборка, для которой неизвестна целевая переменная. Вы обучаете модель, предсказываете для тестовой выборки, формируете из предсказаний csv-файл, и загружаете его на платформу kaggle. Видите значение метрики AUC-ROC. Это значение называется метрикой на публичном лидерборде, и считается оно не по всем данным, а лишь по 50% от тестовой выборки. Когда соревнование заканчивается, AUC-ROC пересчитывается уже для 100% тестовой выборки, и это уже называется приватный лидерборд, он же - финальный.\n",
    "\n",
    "Такой подход является классическим для большей части соревнований по анализу данных, и основан он на том, что если не делать такого разделения, то будет происходить неявное переобучение модели под тестовую выборку. \n",
    "\n",
    "На этом вводная часть заканчивается, и мы искренне желаем вам удачи :) <br>\n",
    "Сможете ли вы повторить успех Jian Yuang'a? Мы в вас верим!\n",
    "\n",
    "<hr>"
   ]
  },
  {
   "cell_type": "markdown",
   "metadata": {
    "colab_type": "text",
    "id": "ed6Qho_G0Rej"
   },
   "source": [
    "## Unzip Data and Import Libraries"
   ]
  },
  {
   "cell_type": "code",
   "execution_count": 1,
   "metadata": {
    "colab": {},
    "colab_type": "code",
    "id": "rRWmn5HdWt10"
   },
   "outputs": [
    {
     "name": "stderr",
     "output_type": "stream",
     "text": [
      "Using TensorFlow backend.\n"
     ]
    }
   ],
   "source": [
    "# TF libraries\n",
    "from keras.layers import *\n",
    "from keras.optimizers import *\n",
    "from keras.applications import *\n",
    "from keras.models import Model, Sequential\n",
    "from keras.preprocessing.image import ImageDataGenerator\n",
    "from tensorflow.keras.utils import to_categorical\n",
    "import efficientnet.keras as efn\n",
    "from keras.utils import plot_model\n",
    "\n",
    "# ML libraries\n",
    "import os\n",
    "import numpy as np\n",
    "import pandas as pd\n",
    "from sklearn.metrics import roc_auc_score\n",
    "from sklearn.model_selection import train_test_split\n",
    "from matplotlib.image import imread\n",
    "import matplotlib.pyplot as plt\n",
    "%matplotlib inline"
   ]
  },
  {
   "cell_type": "code",
   "execution_count": 2,
   "metadata": {
    "colab": {},
    "colab_type": "code",
    "id": "Y5rltXHVMHMN"
   },
   "outputs": [],
   "source": [
    "font = {\n",
    "    'family': 'serif',\n",
    "    'color':  'darkred',\n",
    "    'weight': 'bold',\n",
    "    'size': 22,\n",
    "}"
   ]
  },
  {
   "cell_type": "markdown",
   "metadata": {
    "colab_type": "text",
    "id": "1LGcIWTC1IGL"
   },
   "source": [
    "## Data Upload"
   ]
  },
  {
   "cell_type": "code",
   "execution_count": 3,
   "metadata": {
    "colab": {},
    "colab_type": "code",
    "id": "vM4TLEH2Wk6G"
   },
   "outputs": [],
   "source": [
    "SEED = 257\n",
    "\n",
    "TRAIN_DIR = 'train/'\n",
    "TEST_DIR = 'test/'"
   ]
  },
  {
   "cell_type": "code",
   "execution_count": 4,
   "metadata": {
    "colab": {},
    "colab_type": "code",
    "id": "degvzUnp0yp4"
   },
   "outputs": [],
   "source": [
    "categories = ['hot dog', 'not hot dog']"
   ]
  },
  {
   "cell_type": "code",
   "execution_count": 5,
   "metadata": {
    "colab": {},
    "colab_type": "code",
    "id": "TeRiKVg4XSCN"
   },
   "outputs": [],
   "source": [
    "X, y = [], []\n",
    "\n",
    "for category in categories:\n",
    "    category_dir = os.path.join(TRAIN_DIR, category)\n",
    "    for image_path in os.listdir(category_dir):\n",
    "        X.append(imread(os.path.join(category_dir, image_path)))\n",
    "        y.append(category)"
   ]
  },
  {
   "cell_type": "markdown",
   "metadata": {
    "colab_type": "text",
    "id": "8GrUE5Ft1ptD"
   },
   "source": [
    "## Train-Test Split"
   ]
  },
  {
   "cell_type": "code",
   "execution_count": 6,
   "metadata": {
    "colab": {},
    "colab_type": "code",
    "id": "_fVmaB6OpN8t"
   },
   "outputs": [],
   "source": [
    "y = [1 if x == 'hot dog' else 0 for x in y]"
   ]
  },
  {
   "cell_type": "code",
   "execution_count": 7,
   "metadata": {
    "colab": {},
    "colab_type": "code",
    "id": "3HncqpujdgJZ"
   },
   "outputs": [],
   "source": [
    "X_train, X_test, y_train, y_test = train_test_split(np.array(X), np.array(y), test_size=0.25, random_state=SEED)"
   ]
  },
  {
   "cell_type": "code",
   "execution_count": 8,
   "metadata": {
    "colab": {
     "base_uri": "https://localhost:8080/",
     "height": 34
    },
    "colab_type": "code",
    "executionInfo": {
     "elapsed": 543,
     "status": "ok",
     "timestamp": 1584644896173,
     "user": {
      "displayName": "Dmitry Weber",
      "photoUrl": "",
      "userId": "11637700184898516965"
     },
     "user_tz": -180
    },
    "id": "0CrgJKdTdlpq",
    "outputId": "a83049b5-780c-4729-d00e-49103719fcc3"
   },
   "outputs": [
    {
     "data": {
      "text/plain": [
       "((7536, 100, 100, 3), (2512, 100, 100, 3), (7536,), (2512,))"
      ]
     },
     "execution_count": 8,
     "metadata": {},
     "output_type": "execute_result"
    }
   ],
   "source": [
    "X_train.shape, X_test.shape, y_train.shape, y_test.shape"
   ]
  },
  {
   "cell_type": "markdown",
   "metadata": {
    "colab_type": "text",
    "id": "-SZGbximMHM9"
   },
   "source": [
    "## CNN Setup"
   ]
  },
  {
   "cell_type": "code",
   "execution_count": 9,
   "metadata": {
    "colab": {
     "base_uri": "https://localhost:8080/",
     "height": 289
    },
    "colab_type": "code",
    "executionInfo": {
     "elapsed": 28480,
     "status": "ok",
     "timestamp": 1584645116654,
     "user": {
      "displayName": "Dmitry Weber",
      "photoUrl": "",
      "userId": "11637700184898516965"
     },
     "user_tz": -180
    },
    "id": "uf_JQvWIMHM-",
    "outputId": "131d877f-6731-460c-f012-cd3246064177"
   },
   "outputs": [],
   "source": [
    "# CNN architecture\n",
    "efficient_net = efn.EfficientNetB3(\n",
    "    weights='imagenet',\n",
    "    input_shape=(100,100,3),\n",
    "    include_top=False,\n",
    "    pooling='max'\n",
    ")\n",
    "\n",
    "HOTDOG_DESTROYER = Sequential()\n",
    "HOTDOG_DESTROYER.add(efficient_net)\n",
    "\n",
    "HOTDOG_DESTROYER.add(Dense(128, activation='relu'))\n",
    "HOTDOG_DESTROYER.add(BatchNormalization())\n",
    "HOTDOG_DESTROYER.add(Dropout(0.3))\n",
    "\n",
    "HOTDOG_DESTROYER.add(Dense(128, activation='relu'))\n",
    "HOTDOG_DESTROYER.add(BatchNormalization())\n",
    "HOTDOG_DESTROYER.add(Dropout(0.3))\n",
    "\n",
    "HOTDOG_DESTROYER.add(Dense(64, activation='relu'))\n",
    "HOTDOG_DESTROYER.add(BatchNormalization())\n",
    "\n",
    "HOTDOG_DESTROYER.add(Dense(units = 1, activation='sigmoid'))"
   ]
  },
  {
   "cell_type": "code",
   "execution_count": 10,
   "metadata": {
    "colab": {
     "base_uri": "https://localhost:8080/",
     "height": 156
    },
    "colab_type": "code",
    "executionInfo": {
     "elapsed": 683,
     "status": "ok",
     "timestamp": 1584645158397,
     "user": {
      "displayName": "Dmitry Weber",
      "photoUrl": "",
      "userId": "11637700184898516965"
     },
     "user_tz": -180
    },
    "id": "boprxxWmMHNC",
    "outputId": "df442a53-2d1f-4b4b-9965-4121ef131930"
   },
   "outputs": [
    {
     "name": "stdout",
     "output_type": "stream",
     "text": [
      "Model: \"sequential_1\"\n",
      "_________________________________________________________________\n",
      "Layer (type)                 Output Shape              Param #   \n",
      "=================================================================\n",
      "efficientnet-b3 (Model)      (None, 1536)              10783528  \n",
      "_________________________________________________________________\n",
      "dense_1 (Dense)              (None, 128)               196736    \n",
      "_________________________________________________________________\n",
      "batch_normalization_1 (Batch (None, 128)               512       \n",
      "_________________________________________________________________\n",
      "dropout_1 (Dropout)          (None, 128)               0         \n",
      "_________________________________________________________________\n",
      "dense_2 (Dense)              (None, 128)               16512     \n",
      "_________________________________________________________________\n",
      "batch_normalization_2 (Batch (None, 128)               512       \n",
      "_________________________________________________________________\n",
      "dropout_2 (Dropout)          (None, 128)               0         \n",
      "_________________________________________________________________\n",
      "dense_3 (Dense)              (None, 64)                8256      \n",
      "_________________________________________________________________\n",
      "batch_normalization_3 (Batch (None, 64)                256       \n",
      "_________________________________________________________________\n",
      "dense_4 (Dense)              (None, 1)                 65        \n",
      "=================================================================\n",
      "Total params: 11,006,377\n",
      "Trainable params: 10,918,441\n",
      "Non-trainable params: 87,936\n",
      "_________________________________________________________________\n"
     ]
    }
   ],
   "source": [
    "# Compiler and summary\n",
    "HOTDOG_DESTROYER.compile(\n",
    "    loss=\"binary_crossentropy\",\n",
    "    optimizer=\"adam\",\n",
    "    metrics=['accuracy']\n",
    ")\n",
    "\n",
    "HOTDOG_DESTROYER.summary()"
   ]
  },
  {
   "cell_type": "code",
   "execution_count": 11,
   "metadata": {
    "colab": {
     "base_uri": "https://localhost:8080/",
     "height": 408
    },
    "colab_type": "code",
    "executionInfo": {
     "elapsed": 144416,
     "status": "error",
     "timestamp": 1584645476478,
     "user": {
      "displayName": "Dmitry Weber",
      "photoUrl": "",
      "userId": "11637700184898516965"
     },
     "user_tz": -180
    },
    "id": "JEYc5z5xMHNH",
    "outputId": "f5558f50-8215-4882-d433-4063d4a15811"
   },
   "outputs": [
    {
     "name": "stdout",
     "output_type": "stream",
     "text": [
      "Train on 7536 samples, validate on 2512 samples\n",
      "Epoch 150/150\n",
      "7536/7536 [==============================] - 147s 20ms/step - loss: 0.0181 - accuracy: 0.9952 - val_loss: 0.2238 - val_accuracy: 0.9518\n"
     ]
    }
   ],
   "source": [
    "# Model fit\n",
    "history = HOTDOG_DESTROYER.fit(\n",
    "    X_train, y_train,\n",
    "    batch_size=32,\n",
    "    epochs=150,\n",
    "    verbose=1,\n",
    "    validation_data=(X_test, y_test)\n",
    ") "
   ]
  },
  {
   "cell_type": "code",
   "execution_count": 12,
   "metadata": {
    "colab": {
     "base_uri": "https://localhost:8080/",
     "height": 51
    },
    "colab_type": "code",
    "executionInfo": {
     "elapsed": 8320,
     "status": "ok",
     "timestamp": 1583614999702,
     "user": {
      "displayName": "Dmitry Weber",
      "photoUrl": "",
      "userId": "11637700184898516965"
     },
     "user_tz": -180
    },
    "id": "fuS4VTevMHNN",
    "outputId": "62b71afb-1209-44a1-e4e8-bad57da77329"
   },
   "outputs": [
    {
     "name": "stdout",
     "output_type": "stream",
     "text": [
      "Test loss: 0.22382189998637506\n",
      "Test accuracy: 0.9518312215805054\n"
     ]
    }
   ],
   "source": [
    "# Evaluation\n",
    "score = HOTDOG_DESTROYER.evaluate(X_test, y_test, verbose=0)\n",
    "print('Test loss:', score[0])\n",
    "print('Test accuracy:', score[1])"
   ]
  },
  {
   "cell_type": "code",
   "execution_count": 13,
   "metadata": {
    "colab": {
     "base_uri": "https://localhost:8080/",
     "height": 34
    },
    "colab_type": "code",
    "executionInfo": {
     "elapsed": 8417,
     "status": "ok",
     "timestamp": 1583615015596,
     "user": {
      "displayName": "Dmitry Weber",
      "photoUrl": "",
      "userId": "11637700184898516965"
     },
     "user_tz": -180
    },
    "id": "BkSsNA0FMHNR",
    "outputId": "697d85fd-07fd-4834-e3b1-b7751c0ec584"
   },
   "outputs": [
    {
     "data": {
      "text/plain": [
       "0.9541210798309347"
      ]
     },
     "execution_count": 13,
     "metadata": {},
     "output_type": "execute_result"
    }
   ],
   "source": [
    "# ROC-AUC score\n",
    "roc_auc_score(y_test, HOTDOG_DESTROYER.predict_proba(X_test))"
   ]
  },
  {
   "cell_type": "code",
   "execution_count": 36,
   "metadata": {},
   "outputs": [
    {
     "data": {
      "image/png": "[encoded data removed]",
      "text/plain": [
       "<Figure size 432x288 with 1 Axes>"
      ]
     },
     "metadata": {
      "needs_background": "light"
     },
     "output_type": "display_data"
    },
    {
     "data": {
      "text/plain": [
       "<Figure size 432x288 with 0 Axes>"
      ]
     },
     "metadata": {},
     "output_type": "display_data"
    }
   ],
   "source": [
    "# Plot training & validation accuracy values\n",
    "plt.plot(history.history['accuracy'])\n",
    "plt.plot(history.history['val_accuracy'])\n",
    "plt.title('Model accuracy')\n",
    "plt.ylabel('Accuracy')\n",
    "plt.xlabel('Epoch')\n",
    "plt.legend(['Train', 'Test'], loc='upper left')\n",
    "plt.show()\n",
    "plt.savefig('Accuracy')"
   ]
  },
  {
   "cell_type": "code",
   "execution_count": 35,
   "metadata": {},
   "outputs": [
    {
     "data": {
      "image/png": "[encoded data removed]",
      "text/plain": [
       "<Figure size 432x288 with 1 Axes>"
      ]
     },
     "metadata": {
      "needs_background": "light"
     },
     "output_type": "display_data"
    }
   ],
   "source": [
    "# Plot training & validation loss values\n",
    "plt.plot(history.history['loss'])\n",
    "plt.plot(history.history['val_loss'])\n",
    "plt.title('Model loss')\n",
    "plt.ylabel('Loss')\n",
    "plt.xlabel('Epoch')\n",
    "plt.legend(['Train', 'Test'], loc='upper left')\n",
    "plt.show()"
   ]
  },
  {
   "cell_type": "markdown",
   "metadata": {
    "colab_type": "text",
    "id": "XmVAmisH107e"
   },
   "source": [
    "## Predictions"
   ]
  },
  {
   "cell_type": "code",
   "execution_count": 23,
   "metadata": {
    "colab": {},
    "colab_type": "code",
    "id": "2CDcPvYh10KT"
   },
   "outputs": [],
   "source": [
    "leaderboard_X = []  \n",
    "leaderboard_filenames = []"
   ]
  },
  {
   "cell_type": "code",
   "execution_count": 24,
   "metadata": {
    "colab": {},
    "colab_type": "code",
    "id": "M8MdY9CR10Hf"
   },
   "outputs": [],
   "source": [
    "for image_path in os.listdir(TEST_DIR):\n",
    "    leaderboard_X.append(imread(os.path.join(TEST_DIR, image_path)))\n",
    "    leaderboard_filenames.append(image_path)"
   ]
  },
  {
   "cell_type": "markdown",
   "metadata": {
    "colab_type": "text",
    "id": "eQNB-T0m5ZlK"
   },
   "source": [
    "Глянем, что тут у нас вкусного в выборке для leaderboard?"
   ]
  },
  {
   "cell_type": "code",
   "execution_count": 25,
   "metadata": {
    "colab": {
     "base_uri": "https://localhost:8080/",
     "height": 248
    },
    "colab_type": "code",
    "executionInfo": {
     "elapsed": 638,
     "status": "ok",
     "timestamp": 1583409230123,
     "user": {
      "displayName": "Dmitry Weber",
      "photoUrl": "",
      "userId": "11637700184898516965"
     },
     "user_tz": -180
    },
    "id": "jSZn9-Rh4ZeW",
    "outputId": "a98d7544-e45b-4c5b-964c-db4964caee16"
   },
   "outputs": [
    {
     "data": {
      "image/png": "[encoded data removed]",
      "text/plain": [
       "<Figure size 432x288 with 1 Axes>"
      ]
     },
     "metadata": {
      "needs_background": "light"
     },
     "output_type": "display_data"
    }
   ],
   "source": [
    "plt.axis(\"off\");\n",
    "plt.imshow(leaderboard_X[0]);"
   ]
  },
  {
   "cell_type": "code",
   "execution_count": 26,
   "metadata": {
    "colab": {
     "base_uri": "https://localhost:8080/",
     "height": 34
    },
    "colab_type": "code",
    "executionInfo": {
     "elapsed": 585,
     "status": "ok",
     "timestamp": 1583585721004,
     "user": {
      "displayName": "Dmitry Weber",
      "photoUrl": "",
      "userId": "11637700184898516965"
     },
     "user_tz": -180
    },
    "id": "jKlB2ZH02XZm",
    "outputId": "eb38be73-6792-409d-b0d4-e891dca4b469"
   },
   "outputs": [
    {
     "name": "stdout",
     "output_type": "stream",
     "text": [
      "(100, 100, 3) 0003a33387289b715622ad0c3e2b5e8ba075269ad61c80b76185e40b7e33bf1c.png\n"
     ]
    }
   ],
   "source": [
    "print(leaderboard_X[0].shape, leaderboard_filenames[0])"
   ]
  },
  {
   "cell_type": "code",
   "execution_count": 27,
   "metadata": {
    "colab": {
     "base_uri": "https://localhost:8080/",
     "height": 1000
    },
    "colab_type": "code",
    "executionInfo": {
     "elapsed": 17815,
     "status": "ok",
     "timestamp": 1583585743788,
     "user": {
      "displayName": "Dmitry Weber",
      "photoUrl": "",
      "userId": "11637700184898516965"
     },
     "user_tz": -180
    },
    "id": "5ltYYjD32xuF",
    "outputId": "6f5349a5-67e9-4d8d-e717-9622070834ff"
   },
   "outputs": [
    {
     "data": {
      "text/plain": [
       "[5.209201390243834e-07,\n",
       " 0.029833652079105377,\n",
       " 0.004400048404932022,\n",
       " 0.0014937060186639428,\n",
       " 1.576108843437396e-06,\n",
       " 0.0001716037659207359,\n",
       " 0.9929308891296387,\n",
       " 0.853899359703064,\n",
       " 0.00039970091893337667,\n",
       " 0.0001466189423808828,\n",
       " 8.70930634278011e-08,\n",
       " 0.0001541099773021415,\n",
       " 2.1410275508060295e-07,\n",
       " 9.6767769264261e-07,\n",
       " 0.000191195635125041,\n",
       " 0.22686146199703217,\n",
       " 0.0002521528513170779,\n",
       " 9.080931340577081e-05,\n",
       " 9.520622370473575e-07,\n",
       " 0.0009583799401298165,\n",
       " 3.885881960741244e-05,\n",
       " 3.648836965908231e-08,\n",
       " 0.16610434651374817,\n",
       " 0.004422514699399471,\n",
       " 0.0004403845523484051,\n",
       " 0.00018623677897267044,\n",
       " 3.838636985165067e-06,\n",
       " 0.00010939961794065312,\n",
       " 0.0006040720036253333,\n",
       " 2.8809712603106163e-05,\n",
       " 1.2159517837062594e-07,\n",
       " 0.00021466227190103382,\n",
       " 0.0036576197016984224,\n",
       " 6.96004499332048e-05,\n",
       " 0.015703946352005005,\n",
       " 0.0008274118299596012,\n",
       " 0.0001499814970884472,\n",
       " 1.2751057738569216e-06,\n",
       " 0.00431270943954587,\n",
       " 0.998126208782196,\n",
       " 7.064938108669594e-05,\n",
       " 3.5153036606061505e-06,\n",
       " 0.2621348202228546,\n",
       " 0.0003105279174633324,\n",
       " 3.996566010755487e-05,\n",
       " 0.000377603922970593,\n",
       " 0.00040188178536482155,\n",
       " 2.9886048650951125e-05,\n",
       " 0.00041291717207059264,\n",
       " 0.9996485710144043,\n",
       " 0.004775082226842642,\n",
       " 0.0011000968515872955,\n",
       " 0.997646152973175,\n",
       " 1.8815127305060741e-06,\n",
       " 0.00029117928352206945,\n",
       " 2.524705632822588e-05,\n",
       " 0.0001757754071149975,\n",
       " 0.14518943428993225,\n",
       " 2.160742029744256e-09,\n",
       " 1.0632810898414391e-07,\n",
       " 2.8152558115834836e-06,\n",
       " 2.1537196516874246e-05,\n",
       " 0.9977518916130066,\n",
       " 3.950985046685673e-06,\n",
       " 0.001292783534154296,\n",
       " 6.049969414334555e-10,\n",
       " 0.0009915290866047144,\n",
       " 0.00021334820485208184,\n",
       " 0.0003775322693400085,\n",
       " 8.623509529570583e-06,\n",
       " 4.151137909502722e-05,\n",
       " 2.5122955776168965e-05,\n",
       " 3.50573174046076e-07,\n",
       " 0.00038042309461161494,\n",
       " 2.1812686554767424e-06,\n",
       " 3.025144906132482e-06,\n",
       " 0.0006886280607432127,\n",
       " 0.00023363651416730136,\n",
       " 0.26987653970718384,\n",
       " 0.0006047257920727134,\n",
       " 0.5880956649780273,\n",
       " 0.0008153640665113926,\n",
       " 2.642016170284478e-06,\n",
       " 3.010357886523707e-06,\n",
       " 3.164834561175667e-05,\n",
       " 0.00018479583377484232,\n",
       " 0.00024141432368196547,\n",
       " 0.00014246662613004446,\n",
       " 0.011268502101302147,\n",
       " 7.733805978205055e-05,\n",
       " 0.00013877687160857022,\n",
       " 4.055676072312053e-06,\n",
       " 3.5754892451222986e-05,\n",
       " 5.7705001381691545e-06,\n",
       " 0.9724681973457336,\n",
       " 1.8144724833746295e-07,\n",
       " 4.8924641305347905e-05,\n",
       " 0.0045399959199130535,\n",
       " 1.7097803720389493e-05,\n",
       " 0.009670686908066273,\n",
       " 9.047526106087389e-08,\n",
       " 0.0006356760277412832,\n",
       " 0.0005219306913204491,\n",
       " 8.257054595617319e-09,\n",
       " 1.8530919987824745e-05,\n",
       " 0.0001826871739467606,\n",
       " 9.476963896304369e-06,\n",
       " 0.0005008287844248116,\n",
       " 8.131792856147513e-05,\n",
       " 0.0005870789755135775,\n",
       " 0.0004174506466370076,\n",
       " 1.6897136845273053e-07,\n",
       " 0.0011894924100488424,\n",
       " 1.787901169336692e-07,\n",
       " 8.693829840922263e-06,\n",
       " 0.9998134970664978,\n",
       " 4.334201003075577e-05,\n",
       " 1.1339445336489007e-05,\n",
       " 6.303864938672632e-05,\n",
       " 1.1487913070595823e-05,\n",
       " 0.0001366708311252296,\n",
       " 5.095737651572563e-05,\n",
       " 0.007868867367506027,\n",
       " 0.9813945293426514,\n",
       " 4.646546130970819e-06,\n",
       " 0.012600928544998169,\n",
       " 0.00017672323156148195,\n",
       " 1.3286840072623818e-08,\n",
       " 0.0002625079941935837,\n",
       " 2.577695886429865e-05,\n",
       " 0.00011919235839741305,\n",
       " 5.103379940862851e-09,\n",
       " 9.807349852053449e-05,\n",
       " 2.2133495747311827e-07,\n",
       " 7.306423412956065e-07,\n",
       " 0.9992586970329285,\n",
       " 1.7997987100670798e-08,\n",
       " 0.00021958416618872434,\n",
       " 9.719923355078208e-07,\n",
       " 4.0302154957316816e-05,\n",
       " 0.0009709148434922099,\n",
       " 9.341695840703323e-05,\n",
       " 3.105240370393503e-11,\n",
       " 0.8779878616333008,\n",
       " 0.00010282416042173281,\n",
       " 0.016485702246427536,\n",
       " 0.9994650483131409,\n",
       " 1.3007595498493174e-06,\n",
       " 0.9755741357803345,\n",
       " 2.8590618967427872e-05,\n",
       " 9.42452697927365e-06,\n",
       " 0.9997031092643738,\n",
       " 0.9781267642974854,\n",
       " 0.0016089375130832195,\n",
       " 3.549623883714048e-08,\n",
       " 0.00025513945729471743,\n",
       " 0.5461434125900269,\n",
       " 1.3915006320530665e-06,\n",
       " 0.0004847247328143567,\n",
       " 0.00020286603830754757,\n",
       " 0.00012063767644576728,\n",
       " 1.9076045987276302e-07,\n",
       " 0.9940553903579712,\n",
       " 0.00104335427749902,\n",
       " 0.00015642502694390714,\n",
       " 0.006539881229400635,\n",
       " 0.18911263346672058,\n",
       " 1.5703892131568864e-05,\n",
       " 0.002346223220229149,\n",
       " 0.8964758515357971,\n",
       " 0.0062062693759799,\n",
       " 0.06964361667633057,\n",
       " 0.0001728894276311621,\n",
       " 0.012850409373641014,\n",
       " 7.472177821910009e-05,\n",
       " 3.541000478435308e-05,\n",
       " 9.215140016749501e-05,\n",
       " 1.3048943037219374e-09,\n",
       " 0.00017188937636092305,\n",
       " 0.046376582235097885,\n",
       " 4.9606893298914656e-05,\n",
       " 0.0012429257621988654,\n",
       " 7.3689663260267935e-09,\n",
       " 0.0015817198436707258,\n",
       " 1.6782151135430468e-07,\n",
       " 3.46465071743296e-07,\n",
       " 0.0005751695134676993,\n",
       " 0.9994317889213562,\n",
       " 0.00022815247939433903,\n",
       " 0.368757426738739,\n",
       " 5.6241692192315895e-08,\n",
       " 0.0001037620531860739,\n",
       " 0.7086038589477539,\n",
       " 0.00012669511488638818,\n",
       " 1.2203960068291053e-05,\n",
       " 0.0007741934969089925,\n",
       " 5.498081503962915e-11,\n",
       " 3.7042871547932066e-10,\n",
       " 0.0019371602684259415,\n",
       " 0.056281015276908875,\n",
       " 0.9974846839904785,\n",
       " 6.527856385218911e-06,\n",
       " 0.9725300073623657,\n",
       " 6.022636966918071e-07,\n",
       " 4.621452660558134e-07,\n",
       " 4.024385634693317e-05,\n",
       " 0.00011166874173795804,\n",
       " 0.9943352341651917,\n",
       " 2.4934204702731222e-05,\n",
       " 0.00048273333231918514,\n",
       " 5.6352846513618715e-06,\n",
       " 1.7953776705326163e-06,\n",
       " 0.0007895408780314028,\n",
       " 0.0003134484577458352,\n",
       " 0.90848708152771,\n",
       " 0.0007353047258220613,\n",
       " 0.0005291316192597151,\n",
       " 0.00015252047160174698,\n",
       " 0.0001045237440848723,\n",
       " 0.0024038590490818024,\n",
       " 0.001231098547577858,\n",
       " 0.00010519217175897211,\n",
       " 0.00016633527411613613,\n",
       " 9.234237222699448e-05,\n",
       " 0.9763944745063782,\n",
       " 0.000428258441388607,\n",
       " 0.990740180015564,\n",
       " 7.325415651848743e-08,\n",
       " 0.0004069098795298487,\n",
       " 0.00018213062139693648,\n",
       " 4.035817255498841e-06,\n",
       " 8.086537491180934e-06,\n",
       " 0.00010544595716055483,\n",
       " 0.00014173859381116927,\n",
       " 1.4406826664981054e-07,\n",
       " 0.0004916173638775945,\n",
       " 0.0005561084835790098,\n",
       " 0.0004467216203920543,\n",
       " 0.0017596863908693194,\n",
       " 5.775427011633916e-12,\n",
       " 0.003309044288471341,\n",
       " 0.00015855711535550654,\n",
       " 5.2931227401131764e-05,\n",
       " 4.069351078328509e-09,\n",
       " 0.0017858069622889161,\n",
       " 1.657883558436879e-06,\n",
       " 7.648687727623837e-08,\n",
       " 0.0018781465478241444,\n",
       " 0.00042894831858575344,\n",
       " 7.048995030345395e-05,\n",
       " 1.8612976418808103e-05,\n",
       " 0.00028448947705328465,\n",
       " 1.5318217265303247e-05,\n",
       " 0.0005165705806575716,\n",
       " 7.034617738099769e-05,\n",
       " 0.0005138032138347626,\n",
       " 6.115190298583428e-11,\n",
       " 8.755909220781177e-06,\n",
       " 7.617097253387328e-06,\n",
       " 8.957139652920887e-05,\n",
       " 1.604741919436492e-05,\n",
       " 0.002036522841081023,\n",
       " 1.6582218449912034e-05,\n",
       " 3.9276681491173804e-05,\n",
       " 6.665885052825615e-07,\n",
       " 0.0012901292648166418,\n",
       " 4.473205081012566e-06,\n",
       " 0.013097679242491722,\n",
       " 3.8676258554914966e-05,\n",
       " 8.576416803407483e-06,\n",
       " 3.8655794924125075e-05,\n",
       " 0.000541913730558008,\n",
       " 0.000504333758726716,\n",
       " 0.000700414995662868,\n",
       " 0.9912253022193909,\n",
       " 0.00010170922905672342,\n",
       " 2.4301893830624977e-09,\n",
       " 0.0002989287313539535,\n",
       " 0.04671214148402214,\n",
       " 3.581690748433175e-07,\n",
       " 0.00010693700460251421,\n",
       " 1.7875445337267593e-06,\n",
       " 0.9935901165008545,\n",
       " 0.0015371720073744655,\n",
       " 2.4092660169117153e-05,\n",
       " 7.769315146788358e-08,\n",
       " 0.0001441836793674156,\n",
       " 1.1568250357640864e-08,\n",
       " 0.0002071365888696164,\n",
       " 5.9020825574407354e-05,\n",
       " 0.9987373948097229,\n",
       " 2.3184073143056594e-05,\n",
       " 0.9963944554328918,\n",
       " 1.1022394801329938e-06,\n",
       " 4.594581696437672e-05,\n",
       " 0.0013128912542015314,\n",
       " 0.0004809060483239591,\n",
       " 0.00014048305456526577,\n",
       " 0.0007282138103619218,\n",
       " 0.0005805829423479736,\n",
       " 2.335713816137286e-06,\n",
       " 0.9967809915542603,\n",
       " 1.4001695490151178e-05,\n",
       " 0.996188223361969,\n",
       " 2.773570884073706e-08,\n",
       " 0.9799916744232178,\n",
       " 2.6240217266604304e-05,\n",
       " 0.00022944041120354086,\n",
       " 3.924629709217697e-06,\n",
       " 4.211826620803549e-08,\n",
       " 0.00011203820758964866,\n",
       " 0.0010084228124469519,\n",
       " 4.632275931726326e-07,\n",
       " 0.0023006510455161333,\n",
       " 0.0004446130187716335,\n",
       " 4.300674481783062e-05,\n",
       " 2.836104431480635e-05,\n",
       " 0.0019669693429023027,\n",
       " 1.1379497664165683e-06,\n",
       " 0.9994747042655945,\n",
       " 0.0007319021970033646,\n",
       " 0.00010581552487565205,\n",
       " 0.0006815158412791789,\n",
       " 4.164941103113051e-08,\n",
       " 0.00030622235499322414,\n",
       " 0.00012909696670249104,\n",
       " 0.0003161983622703701,\n",
       " 0.0011633504182100296,\n",
       " 0.002731702057644725,\n",
       " 0.013497540727257729,\n",
       " 1.6582882381044328e-05,\n",
       " 0.0006009480566717684,\n",
       " 7.179808108048746e-06,\n",
       " 4.753628672915511e-06,\n",
       " 0.001022722339257598,\n",
       " 2.4146488613041583e-06,\n",
       " 3.0360999403455935e-07,\n",
       " 0.0006855325191281736,\n",
       " 0.22795848548412323,\n",
       " 0.0003123551432508975,\n",
       " 3.089298274971952e-07,\n",
       " 7.781610474921763e-05,\n",
       " 0.0014439381193369627,\n",
       " 0.026232926174998283,\n",
       " 0.00017082439444493502,\n",
       " 0.6163169741630554,\n",
       " 0.004999629687517881,\n",
       " 3.5775596188614145e-05,\n",
       " 4.033612640341744e-06,\n",
       " 0.00020105228759348392,\n",
       " 3.582199497031979e-05,\n",
       " 0.0022034160792827606,\n",
       " 0.002758567687124014,\n",
       " 0.024328378960490227,\n",
       " 3.1989923598985115e-08,\n",
       " 6.182569904922275e-07,\n",
       " 0.0018417307874187827,\n",
       " 1.7966549421544187e-05,\n",
       " 0.0011156501714140177,\n",
       " 0.6041879057884216,\n",
       " 8.321258792420849e-05,\n",
       " 3.782369094551541e-05,\n",
       " 7.114467007340863e-05,\n",
       " 2.2353407985065132e-05,\n",
       " 0.0005346563993953168,\n",
       " 2.546240921219578e-06,\n",
       " 0.9995879530906677,\n",
       " 2.5948905246764298e-08,\n",
       " 1.4644925613538362e-05,\n",
       " 7.732753033451445e-07,\n",
       " 9.374422802466142e-07,\n",
       " 2.2765623270970536e-06,\n",
       " 2.4996800220833393e-06,\n",
       " 2.544227390899323e-05,\n",
       " 4.877594255958684e-05,\n",
       " 3.2040074984251987e-06,\n",
       " 0.0003828158078249544,\n",
       " 0.0011775565799325705,\n",
       " 9.560296348354314e-06,\n",
       " 0.003960483241826296,\n",
       " 4.418156458996236e-05,\n",
       " 0.00035317029687575996,\n",
       " 0.00018484817701391876,\n",
       " 0.42576882243156433,\n",
       " 0.00044827070087194443,\n",
       " 0.00023449864238500595,\n",
       " 0.004784697201102972,\n",
       " 0.003519198624417186,\n",
       " 1.3897730241296813e-05,\n",
       " 0.00011049436579924077,\n",
       " 2.9524302590289153e-05,\n",
       " 0.00043863223982043564,\n",
       " 7.311213266802952e-05,\n",
       " 0.003116252599284053,\n",
       " 0.9994211196899414,\n",
       " 6.940849561942741e-05,\n",
       " 1.3351411780604394e-06,\n",
       " 5.083208634459879e-06,\n",
       " 0.0006418661796487868,\n",
       " 2.0248980945325457e-06,\n",
       " 0.0026424808893352747,\n",
       " 0.0009969210950657725,\n",
       " 1.6413276853199932e-06,\n",
       " 3.1535066227661446e-05,\n",
       " 0.0062331585213541985,\n",
       " 1.395867184328381e-05,\n",
       " 6.61294052406447e-06,\n",
       " 0.00023532715567853302,\n",
       " 1.8950709090859164e-06,\n",
       " 3.1111105727177346e-06,\n",
       " 0.0007296816329471767,\n",
       " 1.7732720891672216e-07,\n",
       " 0.00010970716539304703,\n",
       " 0.00018502803868614137,\n",
       " 8.637600694783032e-05,\n",
       " 0.00013695248344447464,\n",
       " 6.322022727545118e-06,\n",
       " 0.9986045956611633,\n",
       " 0.0006212489097379148,\n",
       " 2.047175439656712e-05,\n",
       " 0.00013082381337881088,\n",
       " 0.0001409984106430784,\n",
       " 0.002302230801433325,\n",
       " 1.941214122780366e-06,\n",
       " 0.10571444034576416,\n",
       " 0.0010166357969865203,\n",
       " 0.0006718874792568386,\n",
       " 0.00033088563941419125,\n",
       " 0.20300467312335968,\n",
       " 0.001020978786982596,\n",
       " 3.2993357308441773e-06,\n",
       " 1.2159572015946196e-08,\n",
       " 0.9733262062072754,\n",
       " 1.073997224487755e-09,\n",
       " 0.00010606271825963631,\n",
       " 0.00020561668497975916,\n",
       " 6.267664048209554e-06,\n",
       " 0.00048551871441304684,\n",
       " 2.4759005100349896e-05,\n",
       " 0.0023118925746530294,\n",
       " 0.0008626809576526284,\n",
       " 0.0013109177816659212,\n",
       " 0.0006859471322968602,\n",
       " 0.00011433424515416846,\n",
       " 2.5162608108253437e-10,\n",
       " 1.6483843623404937e-08,\n",
       " 6.663140538876178e-06,\n",
       " 1.5893629097263329e-06,\n",
       " 0.9704289436340332,\n",
       " 0.9654824733734131,\n",
       " 0.0009127345983870327,\n",
       " 3.743088382179849e-05,\n",
       " 0.0016839370364323258,\n",
       " 6.538142315548612e-06,\n",
       " 0.0001184016655315645,\n",
       " 0.018817225471138954,\n",
       " 0.0005497497622855008,\n",
       " 7.01442186255008e-05,\n",
       " 1.2976075822734856e-06,\n",
       " 7.64689275456476e-07,\n",
       " 0.9971967935562134,\n",
       " 6.948539066797821e-06,\n",
       " 5.5634423915762454e-05,\n",
       " 7.460735105269123e-06,\n",
       " 0.002087608678266406,\n",
       " 0.00024230375129263848,\n",
       " 2.8560778446262702e-05,\n",
       " 0.12842614948749542,\n",
       " 0.0005698840250261128,\n",
       " 0.00033987173810601234,\n",
       " 1.7433142147638137e-06,\n",
       " 0.0007935963803902268,\n",
       " 5.432504950629253e-18,\n",
       " 2.679332589128336e-10,\n",
       " 9.306860738433897e-05,\n",
       " 0.00024372732150368392,\n",
       " 0.9965366125106812,\n",
       " 0.45523592829704285,\n",
       " 2.2390744561562315e-05,\n",
       " 0.0357949361205101,\n",
       " 1.4924106039870821e-07,\n",
       " 0.08035322278738022,\n",
       " 0.0009085346828214824,\n",
       " 0.5894173383712769,\n",
       " 0.0012346996227279305,\n",
       " 1.9856249764416134e-06,\n",
       " 0.9557204842567444,\n",
       " 4.814109502149222e-07,\n",
       " 0.0011968434555456042,\n",
       " 3.582049657779862e-06,\n",
       " 3.0340779630932957e-05,\n",
       " 3.2184660085476935e-05,\n",
       " 1.9407572835916653e-05,\n",
       " 0.0003578045289032161,\n",
       " 4.065668326802552e-05,\n",
       " 2.508689976821188e-05,\n",
       " 0.00170172902289778,\n",
       " 0.9972419738769531,\n",
       " 7.585909145291225e-08,\n",
       " 5.172911252994405e-13,\n",
       " 0.0036771027371287346,\n",
       " 0.99950110912323,\n",
       " 1.2337668522377498e-05,\n",
       " 2.9795428417855874e-06,\n",
       " 4.168967393525236e-07,\n",
       " 0.0003399136767257005,\n",
       " 2.8935930458828807e-05,\n",
       " 0.0004186948935966939,\n",
       " 0.000282409688225016,\n",
       " 0.00018364250718150288,\n",
       " 7.705582902417518e-06,\n",
       " 0.9998294115066528,\n",
       " 0.0022647303994745016,\n",
       " 3.4920071811939124e-07,\n",
       " 5.040170663050958e-07,\n",
       " 0.0051841274835169315,\n",
       " 0.6637149453163147,\n",
       " 6.398133223228797e-07,\n",
       " 5.654001156152333e-10,\n",
       " 0.9248250722885132,\n",
       " 3.123629767287639e-06,\n",
       " 2.675963332876563e-05,\n",
       " 4.764964978676289e-05,\n",
       " 0.0015425774035975337,\n",
       " 6.593818966393883e-07,\n",
       " 3.797383442361024e-06,\n",
       " 0.9941684007644653,\n",
       " 0.0009798641549423337,\n",
       " 0.0007854466093704104,\n",
       " 0.00020908632723148912,\n",
       " 0.0016055057058110833,\n",
       " 5.35981747873393e-08,\n",
       " 1.1107342288596556e-05,\n",
       " 0.00015785657160449773,\n",
       " 7.649067157444733e-08,\n",
       " 0.026645692065358162,\n",
       " 0.9836983680725098,\n",
       " 0.0006481814198195934,\n",
       " 0.0019397044088691473,\n",
       " 0.00043594525777734816,\n",
       " 3.4833396966860164e-07,\n",
       " 0.0008914345526136458,\n",
       " 0.00026724778581410646,\n",
       " 0.10052965581417084,\n",
       " 0.18814142048358917,\n",
       " 3.95191182178678e-06,\n",
       " 0.0003294892667327076,\n",
       " 0.0005682126502506435,\n",
       " 0.00019605809939093888,\n",
       " 4.67084173578769e-05,\n",
       " 0.00025429020752198994,\n",
       " 0.00017698545707389712,\n",
       " 4.431726949860604e-07,\n",
       " 0.003803991712629795,\n",
       " 2.2740234726370545e-06,\n",
       " 1.3350469089346007e-05,\n",
       " 1.8776929664454656e-06,\n",
       " 4.936579443892697e-06,\n",
       " 0.001298045739531517,\n",
       " 1.300657572755881e-07,\n",
       " 0.00043612104491330683,\n",
       " 1.0433257102704374e-06,\n",
       " 1.1283003686912707e-07,\n",
       " 1.3252638986216425e-09,\n",
       " 5.376011540647596e-05,\n",
       " 0.00011838021600851789,\n",
       " 6.147372187115252e-05,\n",
       " 0.00030535823316313326,\n",
       " 6.916087295394391e-05,\n",
       " 0.9984433054924011,\n",
       " 0.00014830015425104648,\n",
       " 0.0018208365654572845,\n",
       " 3.690971789183095e-05,\n",
       " 0.00014155961980577558,\n",
       " 6.545452038153599e-07,\n",
       " 1.597565096744802e-05,\n",
       " 1.5669560582409758e-07,\n",
       " 1.7942069234777591e-06,\n",
       " 0.0059320502914488316,\n",
       " 8.491089101880789e-05,\n",
       " 1.775268110293382e-08,\n",
       " 0.0005551676731556654,\n",
       " 2.40646500060393e-06,\n",
       " 0.006675239652395248,\n",
       " 0.00021720636868849397,\n",
       " 0.0008012192556634545,\n",
       " 1.0406054684608534e-07,\n",
       " 2.749159875747864e-06,\n",
       " 0.008585534989833832,\n",
       " 0.0001959650544449687,\n",
       " 1.933600469783414e-05,\n",
       " 0.004615264479070902,\n",
       " 0.9123879671096802,\n",
       " 0.008717224933207035,\n",
       " 0.0012931228848174214,\n",
       " 3.3969346986850724e-05,\n",
       " 0.007920338772237301,\n",
       " 0.001414411119185388,\n",
       " 0.00028749063494615257,\n",
       " 0.0006732463371008635,\n",
       " 0.0019904114305973053,\n",
       " 3.116515654255636e-05,\n",
       " 0.054866306483745575,\n",
       " 3.189241370993301e-10,\n",
       " 7.726817420916632e-05,\n",
       " 1.7555116755829658e-06,\n",
       " 3.3549280487932265e-05,\n",
       " 0.0013135955668985844,\n",
       " 2.7924763799092034e-06,\n",
       " 5.6178425438702106e-05,\n",
       " 0.00016414991114288568,\n",
       " 0.00022843480110168457,\n",
       " 1.8700601955856655e-08,\n",
       " 2.5897987143252976e-05,\n",
       " 0.000272473698714748,\n",
       " 0.0002754442684818059,\n",
       " 1.725798504104148e-09,\n",
       " 0.00036100810393691063,\n",
       " 0.0030755437910556793,\n",
       " 0.00021829118486493826,\n",
       " 0.0008099257247522473,\n",
       " 6.366170055116527e-06,\n",
       " 1.7206297150962335e-11,\n",
       " 0.0008697837474755943,\n",
       " 1.3272879186843056e-06,\n",
       " 0.000490776204969734,\n",
       " 3.311603222755366e-07,\n",
       " 7.671881121495971e-07,\n",
       " 0.00029633092344738543,\n",
       " 0.0002598485443741083,\n",
       " 0.00045263030915521085,\n",
       " 0.0007177444640547037,\n",
       " 0.00021683701197616756,\n",
       " 3.047243581022485e-06,\n",
       " 0.0005506683373823762,\n",
       " 5.1375845799839226e-08,\n",
       " 1.0416938494017813e-05,\n",
       " 0.9958817958831787,\n",
       " 0.8681046366691589,\n",
       " 0.999739944934845,\n",
       " 2.836248995663482e-07,\n",
       " 0.0011965978192165494,\n",
       " 0.00042231802945025265,\n",
       " 0.0006662202649749815,\n",
       " 5.479739229485858e-06,\n",
       " 0.0009349300526082516,\n",
       " 0.00388628663495183,\n",
       " 3.7690110730181914e-06,\n",
       " 0.00011141697905259207,\n",
       " 0.0007483024382963777,\n",
       " 3.268867658334784e-05,\n",
       " 6.629616564168828e-06,\n",
       " 0.00029227539198473096,\n",
       " 0.997048556804657,\n",
       " 1.1839332181295958e-08,\n",
       " 0.0002849346201401204,\n",
       " 0.9892458319664001,\n",
       " 5.333019359454738e-08,\n",
       " 0.6153228878974915,\n",
       " 0.9917256832122803,\n",
       " 2.983723561555962e-07,\n",
       " 0.0006667766720056534,\n",
       " 0.0010982032399624586,\n",
       " 0.0007854201248846948,\n",
       " 9.59506451181369e-07,\n",
       " 4.381606777315028e-05,\n",
       " 2.6077765369336703e-07,\n",
       " 0.9991074204444885,\n",
       " 2.2107466065790504e-05,\n",
       " 0.00014436554920393974,\n",
       " 2.936763848992996e-05,\n",
       " 2.753599119387218e-06,\n",
       " 0.00026948918821290135,\n",
       " 2.5118027657811126e-09,\n",
       " 0.0005081610870547593,\n",
       " 0.00029604797600768507,\n",
       " 2.6999946385330986e-06,\n",
       " 0.006529353093355894,\n",
       " 0.00047650429769419134,\n",
       " 0.00011184659524587914,\n",
       " 1.055477696354501e-05,\n",
       " 8.366200745513197e-06,\n",
       " 3.7694389902753755e-06,\n",
       " 0.00045017802040092647,\n",
       " 4.4580076064448804e-05,\n",
       " 4.37986614088004e-07,\n",
       " 1.0892022572761562e-07,\n",
       " 5.741986228713358e-07,\n",
       " 0.007594616152346134,\n",
       " 1.5826819890207844e-06,\n",
       " 0.0005439692758955061,\n",
       " 6.253891342566931e-07,\n",
       " 2.0419281554495683e-06,\n",
       " 5.4337226174538955e-05,\n",
       " 5.487651378643932e-06,\n",
       " 1.642354800424073e-05,\n",
       " 0.999334990978241,\n",
       " 0.0008798672934062779,\n",
       " 0.00020911045430693775,\n",
       " 1.6862328266142868e-05,\n",
       " 2.9969721708766883e-06,\n",
       " 0.9994246959686279,\n",
       " 0.01386672630906105,\n",
       " 0.9983752965927124,\n",
       " 8.817778871161863e-05,\n",
       " 0.8569151163101196,\n",
       " 0.0007243824074976146,\n",
       " 1.3866079484614602e-07,\n",
       " 6.358037353493273e-05,\n",
       " 0.0005800535436719656,\n",
       " 0.00016569271974731237,\n",
       " 8.164200698956847e-05,\n",
       " 0.00017933618801180273,\n",
       " 0.00026050914311781526,\n",
       " 0.0023320254404097795,\n",
       " 1.1757601896533743e-05,\n",
       " 4.9010377551894635e-05,\n",
       " 8.519409533391809e-08,\n",
       " 4.2318984924349934e-05,\n",
       " 0.0004976409254595637,\n",
       " 2.478633405189612e-06,\n",
       " 0.8257907032966614,\n",
       " 0.9993098974227905,\n",
       " 1.2483764022519495e-11,\n",
       " 0.0887705385684967,\n",
       " 5.161794888408622e-06,\n",
       " 0.0005714096478186548,\n",
       " 0.9985994696617126,\n",
       " 1.3136707867344999e-11,\n",
       " 0.00011832694872282445,\n",
       " 0.000573068275116384,\n",
       " 0.9985139966011047,\n",
       " 0.013743865303695202,\n",
       " 5.755687126907105e-08,\n",
       " 2.3621383661520667e-05,\n",
       " 0.0002900159452110529,\n",
       " 0.1500883251428604,\n",
       " 4.1634204535512254e-05,\n",
       " 3.131826451863162e-05,\n",
       " 0.00010079326602863148,\n",
       " 3.077693463637843e-06,\n",
       " 2.0961342883651923e-08,\n",
       " 3.6832818295806646e-05,\n",
       " 5.677248005042657e-09,\n",
       " 0.00039912216016091406,\n",
       " 7.722714508417994e-05,\n",
       " 0.00044587714364752173,\n",
       " 6.534440349925674e-11,\n",
       " 7.534655196650419e-06,\n",
       " 0.08578094094991684,\n",
       " 1.5057720759159565e-07,\n",
       " 0.3636891543865204,\n",
       " 3.3929636629181914e-06,\n",
       " 0.0005845722043886781,\n",
       " 0.000349781388649717,\n",
       " 0.00015207391697913408,\n",
       " 9.38056327868253e-05,\n",
       " 9.309841786375728e-10,\n",
       " 0.00013284329907037318,\n",
       " 0.0010547779966145754,\n",
       " 1.3976570016893675e-06,\n",
       " 3.345327786519192e-05,\n",
       " 0.00041013010195456445,\n",
       " 2.3685963242314756e-05,\n",
       " 2.255828439956531e-05,\n",
       " 4.1940049413824454e-05,\n",
       " 0.001000387710519135,\n",
       " 9.23743243674835e-07,\n",
       " 0.0006121227634139359,\n",
       " 0.9988152980804443,\n",
       " 1.2815556393874772e-09,\n",
       " 2.8111722713219933e-05,\n",
       " 0.00018073126557283103,\n",
       " 0.0011579407146200538,\n",
       " 0.0010915248421952128,\n",
       " 1.721677023169832e-07,\n",
       " 5.637501089950092e-05,\n",
       " 0.0008589382632635534,\n",
       " 0.0008697058074176311,\n",
       " 3.3926127798622474e-05,\n",
       " 0.001204327680170536,\n",
       " 9.837997971828827e-09,\n",
       " 0.001333150314167142,\n",
       " 7.074910172377713e-06,\n",
       " 0.001219268306158483,\n",
       " 0.0033814103808254004,\n",
       " 6.195904234118643e-08,\n",
       " 0.008958104066550732,\n",
       " 0.00028650887543335557,\n",
       " 3.394954319446697e-06,\n",
       " 0.0003099103341810405,\n",
       " 0.00011600217112572864,\n",
       " 3.4328841138631105e-05,\n",
       " 3.42622774951451e-06,\n",
       " 4.661771413339011e-09,\n",
       " 1.1903874792551505e-06,\n",
       " 0.998046875,\n",
       " 0.004957740660756826,\n",
       " 0.00012233313464093953,\n",
       " 0.9995232820510864,\n",
       " 2.921311534009874e-06,\n",
       " 5.240556856733747e-05,\n",
       " 3.097254375461489e-05,\n",
       " 6.805702287238091e-05,\n",
       " 3.921436952936119e-09,\n",
       " 8.032857294892892e-06,\n",
       " 2.7843876523547806e-05,\n",
       " 4.6456276322714984e-05,\n",
       " 0.09329994022846222,\n",
       " 8.501784759573638e-05,\n",
       " 8.661750712235516e-07,\n",
       " 7.16646172804758e-05,\n",
       " 0.0029120147228240967,\n",
       " 0.02807767689228058,\n",
       " 9.208235860569403e-05,\n",
       " 2.0127446987316944e-05,\n",
       " 3.3799184166127816e-05,\n",
       " 0.0017140506533905864,\n",
       " 2.1784759951515298e-07,\n",
       " 7.227919013530482e-06,\n",
       " 0.9993337988853455,\n",
       " 0.0010458634933456779,\n",
       " 2.223015144409146e-05,\n",
       " 3.850865596177755e-06,\n",
       " 0.0020741994958370924,\n",
       " 2.00529375433689e-05,\n",
       " 2.4189450869016582e-06,\n",
       " 0.00027894831146113575,\n",
       " 8.835471817292273e-05,\n",
       " 0.10369934886693954,\n",
       " 0.1821337789297104,\n",
       " 1.2663427924053394e-06,\n",
       " 1.7184304397233063e-06,\n",
       " 4.00794078814215e-06,\n",
       " 0.00034686614526435733,\n",
       " 6.200934765665522e-10,\n",
       " 0.00012078294821549207,\n",
       " 3.965492112456559e-08,\n",
       " 2.46946783590829e-05,\n",
       " 0.00102002895437181,\n",
       " 0.0013116265181452036,\n",
       " 5.644187694997527e-05,\n",
       " 3.353680585860275e-05,\n",
       " 9.82120127446251e-06,\n",
       " 0.0007096909685060382,\n",
       " 0.00016268985928036273,\n",
       " 0.0013310043141245842,\n",
       " 0.0377575159072876,\n",
       " 0.0008308945107273757,\n",
       " 0.0003534441639203578,\n",
       " 0.0006820382550358772,\n",
       " 0.9988229870796204,\n",
       " 0.0010261177085340023,\n",
       " 0.00016158755170181394,\n",
       " 0.00732331583276391,\n",
       " 0.6797611117362976,\n",
       " 0.0030185619834810495,\n",
       " 0.00017521766130812466,\n",
       " 4.102692037122324e-05,\n",
       " 0.0001156945145339705,\n",
       " 0.0012880273861810565,\n",
       " 1.800299469323363e-05,\n",
       " 0.0002849523152690381,\n",
       " 0.9948939085006714,\n",
       " 6.839208708697697e-06,\n",
       " 5.619253329314233e-07,\n",
       " 3.2926120638876455e-06,\n",
       " 6.689243718938087e-07,\n",
       " 0.00040937800076790154,\n",
       " 7.514380939710463e-08,\n",
       " 3.602840661187656e-05,\n",
       " 3.163582960041822e-06,\n",
       " 0.0017599058337509632,\n",
       " 1.1344844779159757e-06,\n",
       " 0.0005848469445481896,\n",
       " 2.4448121621389873e-05,\n",
       " 0.0002619709703139961,\n",
       " 1.7301934349234216e-05,\n",
       " 0.00033833467750810087,\n",
       " 1.1861551683978178e-05,\n",
       " 0.00018488289788365364,\n",
       " 0.0002309310802957043,\n",
       " 0.00012762658298015594,\n",
       " 6.826306344009936e-05,\n",
       " 0.9932228326797485,\n",
       " 8.576339496357832e-07,\n",
       " 3.2820064461702714e-06,\n",
       " 1.4182180763100405e-08,\n",
       " 0.0002362128288950771,\n",
       " 0.000573506229557097,\n",
       " 1.0088391455553847e-08,\n",
       " 2.892808879551012e-06,\n",
       " 2.2463308990694486e-10,\n",
       " 3.1000752187537728e-06,\n",
       " 0.0008308403193950653,\n",
       " 7.457918400177732e-06,\n",
       " 1.1870412890857551e-05,\n",
       " 4.1566167055862024e-05,\n",
       " 1.2916849527755403e-06,\n",
       " 1.073453404387692e-05,\n",
       " 0.0007462017238140106,\n",
       " 6.808221223764122e-05,\n",
       " 0.0002759360650088638,\n",
       " 0.00015294850163627416,\n",
       " 0.0032095189671963453,\n",
       " 4.3212177843088284e-05,\n",
       " 0.006066951435059309,\n",
       " 1.401547820023552e-06,\n",
       " 0.0008080012630671263,\n",
       " 5.701917302758375e-07,\n",
       " 4.2224974095006473e-07,\n",
       " 4.023886867798865e-05,\n",
       " 0.00017183709132950753,\n",
       " 3.1039892878226283e-12,\n",
       " 2.0764923647220712e-06,\n",
       " 3.2497504776074493e-07,\n",
       " 5.65908806038351e-07,\n",
       " 0.0009785136207938194,\n",
       " 0.0016648592427372932,\n",
       " 3.634389855733389e-08,\n",
       " 2.7603616672422504e-06,\n",
       " 1.5890281019892427e-06,\n",
       " 0.0032980148680508137,\n",
       " 0.00017609313363209367,\n",
       " 0.009834210388362408,\n",
       " 0.0002799874637275934,\n",
       " 0.0009140303591266274,\n",
       " 0.0007487043621949852,\n",
       " 6.284417759161443e-05,\n",
       " 0.006317452993243933,\n",
       " 5.8591929700924084e-05,\n",
       " 0.0029747935477644205,\n",
       " 0.24412068724632263,\n",
       " 0.99901282787323,\n",
       " 1.789840275989718e-08,\n",
       " 1.6333282246705494e-06,\n",
       " 9.845889871940017e-05,\n",
       " 0.0016480678459629416,\n",
       " 7.816373681635014e-08,\n",
       " 5.275956738159948e-08,\n",
       " 6.761288751100381e-10,\n",
       " 0.0009853054070845246,\n",
       " 1.7541777197038755e-05,\n",
       " 0.99595046043396,\n",
       " 3.1868967198533937e-06,\n",
       " 0.00025702384300529957,\n",
       " 1.197192744939457e-07,\n",
       " 5.521781349671073e-05,\n",
       " 0.0001845887309173122,\n",
       " 5.61938104510773e-05,\n",
       " 4.665928827307653e-06,\n",
       " 0.000557084393221885,\n",
       " 2.9591376460302854e-07,\n",
       " 0.00014372343139257282,\n",
       " 0.996878981590271,\n",
       " 0.0019651982001960278,\n",
       " 7.49521475995607e-08,\n",
       " 0.00027799015515483916,\n",
       " 5.332477485353593e-06,\n",
       " 4.978650758857839e-05,\n",
       " 0.00036083144368603826,\n",
       " 4.526443220242982e-09,\n",
       " 7.501792964603737e-08,\n",
       " 2.660444260982331e-05,\n",
       " 1.9248501814672636e-07,\n",
       " 6.091265447594196e-08,\n",
       " 0.0001824890641728416,\n",
       " 3.7297718336049e-07,\n",
       " 0.001600646530278027,\n",
       " 9.8378686743672e-06,\n",
       " 0.0007756652194075286,\n",
       " 0.000852832745295018,\n",
       " 0.8364888429641724,\n",
       " 2.299194602528587e-05,\n",
       " 0.0002556846884544939,\n",
       " 0.9996601343154907,\n",
       " 1.377686089654162e-06,\n",
       " 0.029535694047808647,\n",
       " 3.6609922062780242e-06,\n",
       " 5.987765661075173e-08,\n",
       " 0.000478582049254328,\n",
       " 3.5823668440571055e-05,\n",
       " 1.2579183703564922e-06,\n",
       " 0.005425537936389446,\n",
       " 2.9026742121018856e-10,\n",
       " 0.0005475194775499403,\n",
       " 0.00010361680324422196,\n",
       " 5.194294863031246e-05,\n",
       " 0.9283978343009949,\n",
       " 0.9916953444480896,\n",
       " 0.001145881717093289,\n",
       " 0.006584114860743284,\n",
       " 0.0003523394698277116,\n",
       " 2.5542033199599246e-07,\n",
       " 5.254934512777254e-05,\n",
       " 3.233624011045322e-05,\n",
       " 0.00020464579574763775,\n",
       " 1.3230770491645671e-05,\n",
       " 1.736699317689272e-08,\n",
       " 0.0002886736183427274,\n",
       " ...]"
      ]
     },
     "execution_count": 27,
     "metadata": {},
     "output_type": "execute_result"
    }
   ],
   "source": [
    "leaderboard_X = np.array(leaderboard_X)\n",
    "pred = HOTDOG_DESTROYER.predict(leaderboard_X)\n",
    "pred.tolist()\n",
    "leadeboard_predictions = []\n",
    "\n",
    "for i in range(len(pred)):\n",
    "    leadeboard_predictions.append(float(pred[i]))\n",
    "  \n",
    "leadeboard_predictions"
   ]
  },
  {
   "cell_type": "code",
   "execution_count": 28,
   "metadata": {
    "colab": {
     "base_uri": "https://localhost:8080/",
     "height": 136
    },
    "colab_type": "code",
    "executionInfo": {
     "elapsed": 697,
     "status": "ok",
     "timestamp": 1583527527369,
     "user": {
      "displayName": "Dmitry Weber",
      "photoUrl": "",
      "userId": "11637700184898516965"
     },
     "user_tz": -180
    },
    "id": "l4annoDXjVYS",
    "outputId": "4c8b2923-6c2d-4b04-e964-49400468d4c7"
   },
   "outputs": [
    {
     "data": {
      "text/plain": [
       "array([[5.2000001e-07],\n",
       "       [2.9833650e-02],\n",
       "       [4.4000498e-03],\n",
       "       ...,\n",
       "       [9.9105775e-01],\n",
       "       [1.3815860e-01],\n",
       "       [9.9886960e-01]], dtype=float32)"
      ]
     },
     "execution_count": 28,
     "metadata": {},
     "output_type": "execute_result"
    }
   ],
   "source": [
    "pred.round(8)"
   ]
  },
  {
   "cell_type": "markdown",
   "metadata": {
    "colab_type": "text",
    "id": "3IcoWJJRMHNv"
   },
   "source": [
    "Посмотрим, как бы работало наше приложение :)<br>\n",
    "Вы можете менять значение переменной ```idx```, и смотреть, что предсказывает модель на различных изображениях."
   ]
  },
  {
   "cell_type": "code",
   "execution_count": 29,
   "metadata": {
    "colab": {
     "base_uri": "https://localhost:8080/",
     "height": 275
    },
    "colab_type": "code",
    "executionInfo": {
     "elapsed": 629,
     "status": "ok",
     "timestamp": 1583410226818,
     "user": {
      "displayName": "Dmitry Weber",
      "photoUrl": "",
      "userId": "11637700184898516965"
     },
     "user_tz": -180
    },
    "id": "oq9CUm5RMHNw",
    "outputId": "1b996e4a-fb05-437c-f0ec-573739cba492"
   },
   "outputs": [
    {
     "data": {
      "image/png": "[encoded data removed]",
      "text/plain": [
       "<Figure size 432x288 with 1 Axes>"
      ]
     },
     "metadata": {
      "needs_background": "light"
     },
     "output_type": "display_data"
    }
   ],
   "source": [
    "idx = 519\n",
    "\n",
    "plt.axis(\"off\");\n",
    "if leadeboard_predictions[idx] > 0.5:\n",
    "    plt.text(20, -5, 'HOT DOG!!!', fontdict=font)\n",
    "else:\n",
    "    plt.text(15, -5,'not hot dog...', fontdict=font)\n",
    "plt.imshow(leaderboard_X[idx]);"
   ]
  },
  {
   "cell_type": "markdown",
   "metadata": {
    "colab_type": "text",
    "id": "vKI5o2EP5h2b"
   },
   "source": [
    "Формируем DataFrame, содержащий наше решение"
   ]
  },
  {
   "cell_type": "code",
   "execution_count": 30,
   "metadata": {
    "colab": {},
    "colab_type": "code",
    "id": "k1SGdN7e2YwK"
   },
   "outputs": [],
   "source": [
    "pd.set_option('display.float_format', lambda x: '%.10f' % x)\n",
    "submission = pd.DataFrame(\n",
    "    {\n",
    "        'image_id': leaderboard_filenames, \n",
    "        'image_hot_dog_probability': leadeboard_predictions\n",
    "    }\n",
    ")"
   ]
  },
  {
   "cell_type": "code",
   "execution_count": 31,
   "metadata": {
    "colab": {
     "base_uri": "https://localhost:8080/",
     "height": 204
    },
    "colab_type": "code",
    "executionInfo": {
     "elapsed": 641,
     "status": "ok",
     "timestamp": 1583585766290,
     "user": {
      "displayName": "Dmitry Weber",
      "photoUrl": "",
      "userId": "11637700184898516965"
     },
     "user_tz": -180
    },
    "id": "jq7STMwF5kn3",
    "outputId": "e6c87cd9-0633-45eb-a137-e13d8a2027ec"
   },
   "outputs": [
    {
     "data": {
      "text/html": [
       "<div>\n",
       "<style scoped>\n",
       "    .dataframe tbody tr th:only-of-type {\n",
       "        vertical-align: middle;\n",
       "    }\n",
       "\n",
       "    .dataframe tbody tr th {\n",
       "        vertical-align: top;\n",
       "    }\n",
       "\n",
       "    .dataframe thead th {\n",
       "        text-align: right;\n",
       "    }\n",
       "</style>\n",
       "<table border=\"1\" class=\"dataframe\">\n",
       "  <thead>\n",
       "    <tr style=\"text-align: right;\">\n",
       "      <th></th>\n",
       "      <th>image_id</th>\n",
       "      <th>image_hot_dog_probability</th>\n",
       "    </tr>\n",
       "  </thead>\n",
       "  <tbody>\n",
       "    <tr>\n",
       "      <th>0</th>\n",
       "      <td>0003a33387289b715622ad0c3e2b5e8ba075269ad61c80...</td>\n",
       "      <td>0.0000005209</td>\n",
       "    </tr>\n",
       "    <tr>\n",
       "      <th>1</th>\n",
       "      <td>000ac21f4a7ead096d4797eed62fbe308665044e27d550...</td>\n",
       "      <td>0.0298336521</td>\n",
       "    </tr>\n",
       "    <tr>\n",
       "      <th>2</th>\n",
       "      <td>000ef9d107017bb2190a88a5c70adeb5941f22ab7a952f...</td>\n",
       "      <td>0.0044000484</td>\n",
       "    </tr>\n",
       "    <tr>\n",
       "      <th>3</th>\n",
       "      <td>002c5ef1a07ee819724f2e548a6e036908abc784d7ff59...</td>\n",
       "      <td>0.0014937060</td>\n",
       "    </tr>\n",
       "    <tr>\n",
       "      <th>4</th>\n",
       "      <td>003f5ca3f01c6a94b51dc8b019261e827b2dd2888a2ce9...</td>\n",
       "      <td>0.0000015761</td>\n",
       "    </tr>\n",
       "  </tbody>\n",
       "</table>\n",
       "</div>"
      ],
      "text/plain": [
       "                                            image_id  \\\n",
       "0  0003a33387289b715622ad0c3e2b5e8ba075269ad61c80...   \n",
       "1  000ac21f4a7ead096d4797eed62fbe308665044e27d550...   \n",
       "2  000ef9d107017bb2190a88a5c70adeb5941f22ab7a952f...   \n",
       "3  002c5ef1a07ee819724f2e548a6e036908abc784d7ff59...   \n",
       "4  003f5ca3f01c6a94b51dc8b019261e827b2dd2888a2ce9...   \n",
       "\n",
       "   image_hot_dog_probability  \n",
       "0               0.0000005209  \n",
       "1               0.0298336521  \n",
       "2               0.0044000484  \n",
       "3               0.0014937060  \n",
       "4               0.0000015761  "
      ]
     },
     "execution_count": 31,
     "metadata": {},
     "output_type": "execute_result"
    }
   ],
   "source": [
    "submission.head()"
   ]
  },
  {
   "cell_type": "markdown",
   "metadata": {
    "colab_type": "text",
    "id": "IeHp0QEN3ED0"
   },
   "source": [
    "Сохраним результат в submit.csv, который нужно отправить на kaggle. Сделайте это!\n",
    "\n",
    "Ссылку на соревнование вы можете получить у своего куратора. "
   ]
  },
  {
   "cell_type": "code",
   "execution_count": 32,
   "metadata": {
    "colab": {},
    "colab_type": "code",
    "id": "EWAhXZJ82_aZ"
   },
   "outputs": [],
   "source": [
    "submission.to_csv('HOTDOG_DESTROYER.csv', index=False, float_format='%.10f')"
   ]
  },
  {
   "cell_type": "markdown",
   "metadata": {
    "colab_type": "text",
    "id": "7iEh8AyrMHOI"
   },
   "source": [
    "### Идеи для развития и улучшения модели!\n",
    "\n",
    "1. Попробуйте в качестве модели сверточную нейронную сеть: экспериментируйте с архитектурами, алгоритмами оптимизации. \n",
    "2. Сделайте аугментацию (data augmentation) обучающей выборки. \n",
    "3. Найдите больше данных и используйте их для обучения модели! Только не забывайте о том, что распределение классов hot-dog \\ not hot-dog должно оставаться на прежнем уровне. \n",
    "4. Используйте технику transfer learning: ее идея заключается в дообучении на ваших данных модели, хорошо работающей на каком-либо датасете (в изображениях это обычно ImageNet). Стоит обратить внимание на модели семейства ResNet. \n",
    "5. Посмотрите в сторону блендинга (blending) - это способ, позволяющий объединить предсказания нескольких моделей, что в результате может вам дать более устойчивый классификатор"
   ]
  }
 ],
 "metadata": {
  "colab": {
   "collapsed_sections": [],
   "name": "HD_New.ipynb",
   "provenance": []
  },
  "kernelspec": {
   "display_name": "Python 3",
   "language": "python",
   "name": "python3"
  },
  "language_info": {
   "codemirror_mode": {
    "name": "ipython",
    "version": 3
   },
   "file_extension": ".py",
   "mimetype": "text/x-python",
   "name": "python",
   "nbconvert_exporter": "python",
   "pygments_lexer": "ipython3",
   "version": "3.7.6"
  }
 },
 "nbformat": 4,
 "nbformat_minor": 1
}
