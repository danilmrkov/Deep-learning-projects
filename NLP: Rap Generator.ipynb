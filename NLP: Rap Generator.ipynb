{
 "cells": [
  {
   "cell_type": "markdown",
   "metadata": {},
   "source": [
    "## Text generation"
   ]
  },
  {
   "cell_type": "markdown",
   "metadata": {},
   "source": [
    "The purpose of this project - construct a model, which will generate random verses based on the learned song lyrics.\n",
    "\n",
    "As a base model, LSTM recurrent neural network was chosen.\n",
    "\n",
    "Data sample - 20 song lyrics of the russian artist \"Oxxxymiron\" downloaded from Genius"
   ]
  },
  {
   "cell_type": "markdown",
   "metadata": {},
   "source": [
    "## Importing libraries"
   ]
  },
  {
   "cell_type": "code",
   "execution_count": 1,
   "metadata": {},
   "outputs": [
    {
     "name": "stderr",
     "output_type": "stream",
     "text": [
      "Using TensorFlow backend.\n"
     ]
    }
   ],
   "source": [
    "import numpy as np\n",
    "import pandas as pd\n",
    "import lyricsgenius\n",
    "from matplotlib import pyplot as plt\n",
    "import json\n",
    "import pickle\n",
    "\n",
    "#For MSE models\n",
    "import nltk\n",
    "from nltk.util import bigrams, trigrams\n",
    "from nltk.util import pad_sequence\n",
    "from nltk.lm.preprocessing import pad_both_ends\n",
    "from nltk.lm.preprocessing import flatten\n",
    "from nltk.lm.preprocessing import padded_everygram_pipeline\n",
    "from nltk.tokenize.treebank import TreebankWordTokenizer, TreebankWordDetokenizer\n",
    "from nltk.lm import MLE\n",
    "\n",
    "\n",
    "#For RNN model\n",
    "import sys\n",
    "from nltk.tokenize import RegexpTokenizer\n",
    "from nltk.corpus import stopwords\n",
    "from keras.models import Sequential\n",
    "from keras.layers import Dense, Dropout, BatchNormalization,LSTM\n",
    "from keras.utils import np_utils\n",
    "from keras.callbacks import ModelCheckpoint, EarlyStopping\n",
    "import tensorflow as tf"
   ]
  },
  {
   "cell_type": "markdown",
   "metadata": {},
   "source": [
    "## Importing songs"
   ]
  },
  {
   "cell_type": "code",
   "execution_count": 2,
   "metadata": {},
   "outputs": [],
   "source": [
    "rapper = 'Oxxxymiron'\n",
    "num_songs = 20"
   ]
  },
  {
   "cell_type": "code",
   "execution_count": 3,
   "metadata": {},
   "outputs": [],
   "source": [
    "genius = lyricsgenius.Genius(\"jOoA2dCGT_F8pHJJmmd3HgXotfZlbpDr2Dwd9QTA2v122saEfQ3S-RDCu_xd76u7\")\n",
    "\n",
    "genius.skip_non_songs = True\n",
    "genius.verbose = False\n",
    "genius.remove_section_headers = True\n",
    "genius.excluded_terms = [\"(Remix)\", \"(Live)\"]"
   ]
  },
  {
   "cell_type": "markdown",
   "metadata": {},
   "source": [
    "The list of chosen songs:"
   ]
  },
  {
   "cell_type": "code",
   "execution_count": 4,
   "metadata": {},
   "outputs": [
    {
     "name": "stdout",
     "output_type": "stream",
     "text": [
      "[('Город под подошвой (City Under the Sole)', 'Oxxxymiron'), ('«Где нас нет» (”On the Other Side”)', 'Oxxxymiron'), ('До зимы (Before Winter)', 'Oxxxymiron'), ('Неваляшка (Tumbler Toy)', 'Oxxxymiron'), ('В книге всё было по-другому (4 раунд 17ib) (The Book Had It Different)', 'Oxxxymiron'), ('Переплетено (Interlaced)', 'Oxxxymiron'), ('Тентакли (Tentacles)', 'Oxxxymiron'), ('Восточный Мордор (East Mordor)', 'Oxxxymiron'), ('Песенка Гремлина (Gremlin’s Song)', 'Oxxxymiron'), ('Признаки Жизни (Signs of Life)', 'Oxxxymiron'), ('Детектор лжи (Lie Detector)', 'Oxxxymiron'), ('Башня из слоновой кости (Ivory Tower)', 'Oxxxymiron'), ('Пролив Дрейка (Drake Passage)', 'Oxxxymiron'), ('Биполярочка (Bipolarochka)', 'Oxxxymiron'), ('Девочка Пиздец (Fucked Up Girl)', 'Oxxxymiron'), ('Последний звонок (Last Call)', 'Oxxxymiron'), ('Всего лишь писатель (Just a Writer)', 'Oxxxymiron'), ('Привет со дна  (Hello from the Bottom)', 'Oxxxymiron'), ('Не от мира сего (Not of This World)', 'Oxxxymiron'), ('Больше Бена (Bigga Than Ben)', 'Oxxxymiron')]\n"
     ]
    }
   ],
   "source": [
    "artist = genius.search_artist(rapper, max_songs=num_songs)\n",
    "print(artist.songs)"
   ]
  },
  {
   "cell_type": "code",
   "execution_count": 5,
   "metadata": {},
   "outputs": [],
   "source": [
    "lyrics = []\n",
    "for i in range(len(artist.songs)):\n",
    "    song = [artist.songs[i].lyrics]\n",
    "    lyrics.append(song)\n",
    "    \n",
    "with open(\"oxxxymiron_lyrics.txt\", \"wb\") as fp:\n",
    "    pickle.dump(lyrics, fp)"
   ]
  },
  {
   "cell_type": "code",
   "execution_count": 6,
   "metadata": {},
   "outputs": [],
   "source": [
    "#Unpickling our songs\n",
    "with open(\"oxxxymiron_lyrics.txt\", \"rb\") as fp:   \n",
    "    lyrics = pickle.load(fp)"
   ]
  },
  {
   "cell_type": "code",
   "execution_count": 7,
   "metadata": {},
   "outputs": [
    {
     "name": "stdout",
     "output_type": "stream",
     "text": [
      "20\n"
     ]
    }
   ],
   "source": [
    "print(len(lyrics))"
   ]
  },
  {
   "cell_type": "markdown",
   "metadata": {},
   "source": [
    "Example of the song lyrics:"
   ]
  },
  {
   "cell_type": "code",
   "execution_count": 8,
   "metadata": {},
   "outputs": [
    {
     "name": "stdout",
     "output_type": "stream",
     "text": [
      "['Sino hora sancta morta\\nSino hora sancta morta\\nSino hora sancta morta\\n\\nТам, где нас нет — горит невиданный рассвет\\nГде нас нет — море и рубиновый закат\\nГде нас нет — лес, как малахитовый браслет\\nГде нас нет, на Лебединых островах\\nГде нас нет, услышь меня и вытащи из омута\\nВеди в мой вымышленный город, вымощенный золотом\\nВо сне я вижу дали иноземные\\nГде милосердие правит, где берега кисельные\\n\\nЭй, йоу\\n«Ну-ка, слёзы вытер!\\nТо ли дело их сын, сразу видно, что он лидер»\\n«Слышишь, если спросят, то ты ничего не видел»\\n«Ай, он весь в отца, из него ничего не выйдет»\\n«Кто ж её не знает-то, всему двору сосала»\\n«Это что такое? Руки! Я кому сказала?»\\n«Всё разворовали, а бывал непобедимым»\\n«Ваш ребёнок замкнут и не ладит с коллективом»\\n«Марш в детский сад!» «Дружный класс». «Дважды два»\\n«Раз на раз, баш на баш». «Чё, зассал? Не пацан?»\\n«Тока глянь на себя, тут фингал, там синяк\\nХулиган! Стыдоба! Как ты смел, кем ты стал?»\\n«Мой-то? Да всё в облаках, как в детстве, витает»\\n«Ты ничем не лучше других, чудес не бывает»\\n«С нею? Да без шансов, он же пугалище с виду!»\\n«Хули ты всё умничаешь, сука, ты, чё, пидор?»\\n«На, сделай пару тяг — стены полетят\\nЧё, ништяк? По шестьдесят, бери сейчас»\\n«Тихий час». «Твои друзья — десять негритят»\\n«Все пиздят». «Скажи, где взял?» «Наперекосяк»\\n«Строгача!» «Как вышел, и каждое лето квасит»\\n«Сожалеем, но у нас всё так же нет вакансий»\\n«Как ты был неблагодарный, так жизнь сломал мне»\\n«На могильном камне пусть выбьют как-нибудь пошикарней»\\n\\nГде нас нет — горит невиданный рассвет\\nГде нас нет — море и рубиновый закат\\nГде нас нет — лес, как малахитовый браслет\\nГде нас нет, на Лебединых островах\\nГде нас нет, услышь меня и вытащи из омута\\nПусти в мой вымышленный город, вымощенный золотом\\nВо тьме я вижу дали иноземные\\nГде милосердие правит, где берега кисельные\\n\\n«Ты ж моя принцесса!»\\n«Ваша цель: выжать всё из её учебного процесса\\nМы в Женеву на месяц, не жалейте их, профессор»\\n«Младшая будет красавица, а эта так, в довесок»\\n«Сядьте прямо! Тут обеденный стол, юная леди!»\\n«Что за ветер в голове, что за тон и манеры эти?»\\n«Мне тут напели, кто-то в кресло вице-мэра метит?»\\n«Постеснялся бы, хотя б, своим блядям звонить при детях!»\\n«Завтра важный этап: частный пансионат\\nЕё нрав исправит, как высококлассный остеопат\\nРаз так страсти кипят, её враз тут остепенят!»\\n«Почему про отца твердят, что он властный социопат?»\\n«Гляньте-ка, вон та самая, новенькая, любуйтесь»\\n«Погоди, дитя, после школы, пока побудь здесь»\\n«Пастор поцеловал? Лазал под сарафан?»\\n«Не сопротивляйся, дитя, все дела во славу творца!»\\n«Сам не тиран и деспот, но надо знать своё место\\nА ты непутёвая недотёпа с самого детства\\nЯ даю на роскошь, новшества — тебе недаром!\\nЭта тварь из отбросов общества тебе не пара!»\\n«Съешь их, добавишь к серой рутине цветов, оттенков»\\n«Эксклюзивный реабилитационный центр»\\n«Как с настроением у нас?» «К выздоровлению\\nВместо поздравлений пусть вышлют как-нибудь поскромнее»\\n\\nГде нас нет — горит невиданный рассвет\\nГде нас нет — море и рубиновый закат\\nГде нас нет — лес, как малахитовый браслет\\nГде нас нет, на Лебединых островах\\nГде нас нет, услышь меня и вытащи из омута\\nПусти в мой вымышленный город, вымощенный золотом\\nВо тьме я вижу дали иноземные\\nГде милосердие правит и свет над берегами\\nГде нас нет — горит невиданный рассвет\\nГде нас нет — море и рубиновый закат\\nГде нас нет — лес, как малахитовый браслет\\nГде нас нет, на Лебединых островах\\nГде нас нет, услышь меня и вытащи из омута\\nВеди в мой вымышленный город, вымощенный золотом\\nВо тьме я вижу дали иноземные\\nГде милосердие правит и свет над берегами\\n\\nГде нас нет...']\n"
     ]
    }
   ],
   "source": [
    "print(lyrics[1])"
   ]
  },
  {
   "cell_type": "markdown",
   "metadata": {},
   "source": [
    "## Preparing data"
   ]
  },
  {
   "cell_type": "code",
   "execution_count": 9,
   "metadata": {},
   "outputs": [],
   "source": [
    "clear_lyrics = lyrics\n",
    "bad_chars = [';', ':', '!', '*', 'n', ',', '.', '\"', \"'\", '(', ')', '?', '—', '\\\\', '[', ']', '»', '«']\n",
    "\n",
    "for i in clear_lyrics:\n",
    "    for char in bad_chars:\n",
    "        clear_lyrics = str(clear_lyrics).replace(char,' ').lower()"
   ]
  },
  {
   "cell_type": "code",
   "execution_count": 10,
   "metadata": {},
   "outputs": [],
   "source": [
    "#Make a function to tokenize & filter input data\n",
    "def tokenize_words(input): \n",
    "    #Initiate the tokenizer\n",
    "    tokenizer = RegexpTokenizer(r'\\w+')\n",
    "    tokens = tokenizer.tokenize(input)\n",
    "    \n",
    "    #Filter some words if they are in nltk stop list\n",
    "    filtered = filter(lambda token: token not in stopwords.words('russian'), tokens)\n",
    "    return \" \".join(filtered)"
   ]
  },
  {
   "cell_type": "code",
   "execution_count": 11,
   "metadata": {},
   "outputs": [],
   "source": [
    "#Preprocess our input data and make tokens\n",
    "processed_inputs = tokenize_words(clear_lyrics)"
   ]
  },
  {
   "cell_type": "code",
   "execution_count": 12,
   "metadata": {},
   "outputs": [
    {
     "name": "stdout",
     "output_type": "stream",
     "text": [
      "дон волга течёт котомку плечо боль груди тайничок открытый фомкой ключом сколько миль ещё перелет ко\n"
     ]
    }
   ],
   "source": [
    "print(processed_inputs[:100])"
   ]
  },
  {
   "cell_type": "code",
   "execution_count": 13,
   "metadata": {},
   "outputs": [],
   "source": [
    "#Since NN requires numbers, but not text characters, convert the characters in our input to numbers\n",
    "chars = sorted(list(set(processed_inputs)))\n",
    "char_to_num = dict((c, i) for i, c in enumerate(chars))"
   ]
  },
  {
   "cell_type": "code",
   "execution_count": 14,
   "metadata": {},
   "outputs": [
    {
     "name": "stdout",
     "output_type": "stream",
     "text": [
      "Total number of characters: 39672\n",
      "Total vocab: 72\n"
     ]
    }
   ],
   "source": [
    "#For futher data preparation, calculate the length of our input and vocabulary\n",
    "input_len = len(processed_inputs)\n",
    "vocab_len = len(chars)\n",
    "\n",
    "print (\"Total number of characters:\", input_len)\n",
    "print (\"Total vocab:\", vocab_len)"
   ]
  },
  {
   "cell_type": "code",
   "execution_count": 15,
   "metadata": {},
   "outputs": [],
   "source": [
    "#Define how long an individual sequence (one complete mapping of inputs characters as integers) to be\n",
    "seq_length = 100\n",
    "\n",
    "#Make empty lists to store our input and output data\n",
    "x_data = []\n",
    "y_data = []"
   ]
  },
  {
   "cell_type": "code",
   "execution_count": 16,
   "metadata": {},
   "outputs": [],
   "source": [
    "#Loop through inputs - start at the beginning and go until we hit the final character we can create a sequence out of\n",
    "for i in range(0, input_len - seq_length, 1):\n",
    "    \n",
    "    #Define input and output sequences\n",
    "    #Input is the current character plus desired sequence length\n",
    "    in_seq = processed_inputs[i:i + seq_length]\n",
    "\n",
    "    #Output sequence is the initial character plus total sequence length\n",
    "    out_seq = processed_inputs[i + seq_length]\n",
    "\n",
    "    #Convert list of characters to integers and add the values to our lists\n",
    "    x_data.append([char_to_num[char] for char in in_seq])\n",
    "    y_data.append(char_to_num[out_seq])"
   ]
  },
  {
   "cell_type": "code",
   "execution_count": 17,
   "metadata": {},
   "outputs": [
    {
     "name": "stdout",
     "output_type": "stream",
     "text": [
      "Total Patterns: 39572\n"
     ]
    }
   ],
   "source": [
    "#Total number of sequences\n",
    "n_patterns = len(x_data)\n",
    "print (\"Total Patterns:\", n_patterns)"
   ]
  },
  {
   "cell_type": "code",
   "execution_count": 18,
   "metadata": {},
   "outputs": [],
   "source": [
    "#Transform it to numpy array for our NN\n",
    "X = np.reshape(x_data, (n_patterns, seq_length, 1))\n",
    "\n",
    "#Make the numbers float for activation function being able to interpret them as probabilities\n",
    "X = X/float(vocab_len)"
   ]
  },
  {
   "cell_type": "code",
   "execution_count": 19,
   "metadata": {},
   "outputs": [],
   "source": [
    "#One-hot encode our data\n",
    "y = np_utils.to_categorical(y_data)"
   ]
  },
  {
   "cell_type": "markdown",
   "metadata": {},
   "source": [
    "## Constructing RNN LSTM model"
   ]
  },
  {
   "cell_type": "code",
   "execution_count": 20,
   "metadata": {},
   "outputs": [],
   "source": [
    "#Construct stacked LSTM model\n",
    "model = Sequential()\n",
    "\n",
    "model.add(LSTM(256, input_shape=(X.shape[1], X.shape[2]), return_sequences=True))\n",
    "model.add(BatchNormalization())\n",
    "model.add(Dropout(0.2))\n",
    "\n",
    "model.add(LSTM(256, return_sequences=True))\n",
    "model.add(BatchNormalization())\n",
    "model.add(Dropout(0.2))\n",
    "\n",
    "model.add(LSTM(128))\n",
    "model.add(BatchNormalization())\n",
    "model.add(Dropout(0.2))\n",
    "\n",
    "model.add(Dense(y.shape[1], activation='softmax'))"
   ]
  },
  {
   "cell_type": "code",
   "execution_count": 21,
   "metadata": {},
   "outputs": [],
   "source": [
    "#For our callback create a file with RNN weights\n",
    "filename = \"RNN_weights.hdf5\"\n",
    "filepath = \"RNN_weights.hdf5\""
   ]
  },
  {
   "cell_type": "code",
   "execution_count": 22,
   "metadata": {},
   "outputs": [],
   "source": [
    "#Set callback function to save the best weights\n",
    "callbacks = [ModelCheckpoint(filepath, monitor='loss', verbose=1, save_best_only=True, mode='min')]"
   ]
  },
  {
   "cell_type": "code",
   "execution_count": 23,
   "metadata": {},
   "outputs": [],
   "source": [
    "#Compile RNN model on default adam optimizer and track categorical cross-entropy\n",
    "model.compile(loss='categorical_crossentropy', optimizer='adam')"
   ]
  },
  {
   "cell_type": "code",
   "execution_count": 24,
   "metadata": {},
   "outputs": [
    {
     "name": "stdout",
     "output_type": "stream",
     "text": [
      "Epoch 1/500\n",
      "39572/39572 [==============================] - 51s 1ms/step - loss: 3.7964\n",
      "\n",
      "Epoch 00001: loss improved from inf to 3.79637, saving model to RNN_weights.hdf5\n",
      "Epoch 500/500\n",
      "39572/39572 [==============================] - 56s 1ms/step - loss: 0.2267\n",
      "\n"
     ]
    }
   ],
   "source": [
    "history = model.fit(X, y, epochs=500, batch_size=256, callbacks=callbacks)"
   ]
  },
  {
   "cell_type": "code",
   "execution_count": 25,
   "metadata": {},
   "outputs": [],
   "source": [
    "with open('history', 'wb') as f:\n",
    "     pickle.dump(history, f)"
   ]
  },
  {
   "cell_type": "code",
   "execution_count": 26,
   "metadata": {},
   "outputs": [],
   "source": [
    "with open('history', 'rb') as f:\n",
    "     history = pickle.load(f)"
   ]
  },
  {
   "cell_type": "code",
   "execution_count": 27,
   "metadata": {},
   "outputs": [],
   "source": [
    "#Loading pre-trained weights\n",
    "model.load_weights(filename)"
   ]
  },
  {
   "cell_type": "code",
   "execution_count": 28,
   "metadata": {},
   "outputs": [
    {
     "data": {
      "image/png": "[encoded data removed]",
      "text/plain": [
       "<Figure size 432x288 with 1 Axes>"
      ]
     },
     "metadata": {
      "needs_background": "light"
     },
     "output_type": "display_data"
    }
   ],
   "source": [
    "# Plot loss values\n",
    "plt.plot(history.history['loss'])\n",
    "plt.title('Model loss')\n",
    "plt.ylabel('Loss')\n",
    "plt.xlabel('Epoch')\n",
    "plt.show()"
   ]
  },
  {
   "cell_type": "markdown",
   "metadata": {},
   "source": [
    "On the graph, we can see the gradual decrease of cross-entropy loss, which is a good sign. There still exists a little downward slope, however it requires much more time to train and tuning in hyper parameters."
   ]
  },
  {
   "cell_type": "markdown",
   "metadata": {},
   "source": [
    "## Testing our model"
   ]
  },
  {
   "cell_type": "code",
   "execution_count": 29,
   "metadata": {},
   "outputs": [],
   "source": [
    "#Define a dictionary that will convert the RNN output in numbers back to characters \n",
    "num_to_char = dict((i, c) for i, c in enumerate(chars))"
   ]
  },
  {
   "cell_type": "code",
   "execution_count": 115,
   "metadata": {},
   "outputs": [
    {
     "name": "stdout",
     "output_type": "stream",
     "text": [
      "Random Seed:\n",
      "\"  дальше остановок видать пока нам ног сломит вражий костолом живём умрём удобрим гору собой став её  \"\n"
     ]
    }
   ],
   "source": [
    "#Provide our model with random seed character from which it will generate a sequence of characters\n",
    "start = np.random.randint(0, len(x_data) - 1)\n",
    "pattern = x_data[start]\n",
    "print(\"Random Seed:\")\n",
    "print(\"\\\"\", ''.join([num_to_char[value] for value in pattern]), \"\\\"\")"
   ]
  },
  {
   "cell_type": "markdown",
   "metadata": {},
   "source": [
    "Example of the generated verse:"
   ]
  },
  {
   "cell_type": "code",
   "execution_count": 116,
   "metadata": {
    "scrolled": false
   },
   "outputs": [
    {
     "name": "stdout",
     "output_type": "stream",
     "text": [
      "углём недобром городе рабом бунтарём это круговорот природы червяков доест орёл червяки орла всё переплетено внедрим пол"
     ]
    }
   ],
   "source": [
    "#Finally, generate rap\n",
    "for i in range(120):\n",
    "    x = np.reshape(pattern, (1, len(pattern), 1))\n",
    "    x = x / float(vocab_len)\n",
    "    prediction = model.predict(x, verbose=0)\n",
    "    index = np.argmax(prediction)\n",
    "    result = num_to_char[index]\n",
    "    seq_in = [num_to_char[value] for value in pattern]\n",
    "\n",
    "    sys.stdout.write(result)\n",
    "\n",
    "    pattern.append(index)\n",
    "    pattern = pattern[1:len(pattern)]"
   ]
  },
  {
   "cell_type": "markdown",
   "metadata": {},
   "source": [
    "As a result, our model generate new verses based on the learned vocabulary from 20 Oxxxymiron songs. Even though the model is not so good at constructing sentences yet as the human brain does, that is already a good prerequisite to further depvelopment. "
   ]
  }
 ],
 "metadata": {
  "kernelspec": {
   "display_name": "Python 3",
   "language": "python",
   "name": "python3"
  },
  "language_info": {
   "codemirror_mode": {
    "name": "ipython",
    "version": 3
   },
   "file_extension": ".py",
   "mimetype": "text/x-python",
   "name": "python",
   "nbconvert_exporter": "python",
   "pygments_lexer": "ipython3",
   "version": "3.7.6"
  }
 },
 "nbformat": 4,
 "nbformat_minor": 2
}
