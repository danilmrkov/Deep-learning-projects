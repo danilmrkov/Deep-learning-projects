{
 "cells": [
  {
   "cell_type": "markdown",
   "metadata": {},
   "source": [
    "### Summary"
   ]
  },
  {
   "cell_type": "markdown",
   "metadata": {},
   "source": [
    "The goal of this project - construct a model, which will classify website reviews into Bad or Good \n",
    "Size of data sample - ~2 mln Amazon reviews in fastText format (kaggle dataset) \n",
    "I contructed three models on sentiment classification - fastText, XGBoost and RNN LSTM models.\n",
    "As a target metric I chose ROC AUC.\n",
    "\n",
    "The following results were achieved:\n",
    "1. fastText: 90,91%\n",
    "2. XGBoost: 85,91%\n",
    "3. RNN LSTM: 91,97%\n",
    "\n",
    "In conlusion, within the constraints of this project, I choose RNN LSTM model as the best due to the highest ROC AUC value.\n",
    "\n",
    "Thoughts on improvement: RNN LSTM model could perform even better, if it was trained on the whole dataset (if only I had more computing power)"
   ]
  },
  {
   "cell_type": "markdown",
   "metadata": {},
   "source": [
    "### Import libraries"
   ]
  },
  {
   "cell_type": "code",
   "execution_count": 2,
   "metadata": {},
   "outputs": [
    {
     "name": "stderr",
     "output_type": "stream",
     "text": [
      "Using TensorFlow backend.\n"
     ]
    }
   ],
   "source": [
    "from zipfile import ZipFile\n",
    "import pickle\n",
    "import pandas as pd\n",
    "import numpy as np\n",
    "from matplotlib import pyplot as plt\n",
    "import fasttext\n",
    "import string\n",
    "import re\n",
    "\n",
    "from keras.callbacks import ModelCheckpoint\n",
    "from keras.layers import Dense, Dropout, Embedding, SpatialDropout1D\n",
    "from keras.layers.recurrent import LSTM\n",
    "from keras.models import Sequential\n",
    "from keras.preprocessing.sequence import pad_sequences\n",
    "from keras.models import Model\n",
    "from keras.preprocessing.text import Tokenizer\n",
    "\n",
    "from sklearn.metrics import roc_auc_score\n",
    "from sklearn.feature_extraction.text import TfidfVectorizer\n",
    "from xgboost import XGBClassifier\n",
    "from nltk.corpus import stopwords\n",
    "from nltk import word_tokenize\n",
    "import nltk"
   ]
  },
  {
   "cell_type": "code",
   "execution_count": null,
   "metadata": {},
   "outputs": [],
   "source": [
    "with ZipFile('fastText-0.9.1.zip', 'r') as fastText:\n",
    "   # Extract all the contents of zip file in current directory\n",
    "   fastText.extractall()\n",
    "\n",
    "with ZipFile('train.ft.txt.bz2.zip', 'r') as train:\n",
    "   # Extract all the contents of zip file in current directory\n",
    "   train.extractall()\n",
    "    \n",
    "with ZipFile('test.ft.txt.bz2.zip', 'r') as test:\n",
    "   # Extract all the contents of zip file in current directory\n",
    "   test.extractall()"
   ]
  },
  {
   "cell_type": "markdown",
   "metadata": {},
   "source": [
    "### Extract data"
   ]
  },
  {
   "cell_type": "code",
   "execution_count": null,
   "metadata": {},
   "outputs": [],
   "source": [
    "f = open('test.ft.txt', 'r', encoding ='utf-8')\n",
    "X_test = []\n",
    "for i in f: \n",
    "    X_test.append(i[11:])\n",
    "f.close()"
   ]
  },
  {
   "cell_type": "code",
   "execution_count": 1,
   "metadata": {},
   "outputs": [],
   "source": [
    "f = open('test.ft.txt', 'r', encoding ='utf-8')\n",
    "y_test = []\n",
    "for i in f: \n",
    "    if i[:10] == '__label__1':\n",
    "        y_test.append(0)\n",
    "    else:\n",
    "        y_test.append(1)\n",
    "f.close()"
   ]
  },
  {
   "cell_type": "code",
   "execution_count": null,
   "metadata": {},
   "outputs": [],
   "source": [
    "f = open('train.ft.txt', 'r', encoding ='utf-8')\n",
    "X_train = []\n",
    "for i in f: \n",
    "    X_train.append(i[11:])\n",
    "f.close()"
   ]
  },
  {
   "cell_type": "code",
   "execution_count": null,
   "metadata": {},
   "outputs": [],
   "source": [
    "f = open('train.ft.txt', 'r', encoding ='utf-8')\n",
    "y_train = []\n",
    "for i in f: \n",
    "    if i[:10] == '__label__1':\n",
    "        y_train.append(0)\n",
    "    else:\n",
    "        y_train.append(1)\n",
    "f.close()"
   ]
  },
  {
   "cell_type": "markdown",
   "metadata": {},
   "source": [
    "### Building fastText classifier"
   ]
  },
  {
   "cell_type": "code",
   "execution_count": null,
   "metadata": {},
   "outputs": [],
   "source": [
    "fasttext_model = fasttext.train_supervised('train.ft.txt')\n",
    "fasttext_model.save_model(\"fasttext_model.bin\")"
   ]
  },
  {
   "cell_type": "code",
   "execution_count": null,
   "metadata": {},
   "outputs": [],
   "source": [
    "fasttext_model = fasttext.load_model(\"fasttext_model.bin\")"
   ]
  },
  {
   "cell_type": "code",
   "execution_count": null,
   "metadata": {},
   "outputs": [],
   "source": [
    "fasttext_pred = []\n",
    "for i in range(len(X_test)):\n",
    "    pred = fasttext_model.predict(X_test[i].rstrip())\n",
    "    if pred[0] == ('__label__1',):\n",
    "        fasttext_pred.append(0)\n",
    "    else:\n",
    "        fasttext_pred.append(1)\n",
    "        \n",
    "with open('fasttext_pred', 'wb') as f:\n",
    "     pickle.dump(fasttext_pred, f)"
   ]
  },
  {
   "cell_type": "code",
   "execution_count": 3,
   "metadata": {},
   "outputs": [],
   "source": [
    "with open('fasttext_pred', 'rb') as f:\n",
    "     fasttext_pred = pickle.load(f)"
   ]
  },
  {
   "cell_type": "code",
   "execution_count": 4,
   "metadata": {},
   "outputs": [],
   "source": [
    "fasttext_auc = roc_auc_score(y_test, fasttext_pred)"
   ]
  },
  {
   "cell_type": "code",
   "execution_count": 5,
   "metadata": {},
   "outputs": [
    {
     "name": "stdout",
     "output_type": "stream",
     "text": [
      "SCORE: 0.90911\n"
     ]
    }
   ],
   "source": [
    "print (\"SCORE:\", fasttext_auc)"
   ]
  },
  {
   "cell_type": "markdown",
   "metadata": {},
   "source": [
    "### Building TFIDF + XGBoost classifier"
   ]
  },
  {
   "cell_type": "code",
   "execution_count": null,
   "metadata": {},
   "outputs": [],
   "source": [
    "stop_words = set(stopwords.words('english'))"
   ]
  },
  {
   "cell_type": "code",
   "execution_count": null,
   "metadata": {},
   "outputs": [],
   "source": [
    "def Tokenizerr(str_input):\n",
    "    words = re.sub(r\"[^A-Za-z0-9\\-]\", \" \", str_input).lower().split()\n",
    "    porter_stemmer=nltk.PorterStemmer()\n",
    "    words = [porter_stemmer.stem(word) for word in words]\n",
    "    return words"
   ]
  },
  {
   "cell_type": "code",
   "execution_count": null,
   "metadata": {},
   "outputs": [],
   "source": [
    "vectorizer = TfidfVectorizer(tokenizer=Tokenizerr, stop_words=stop_words)"
   ]
  },
  {
   "cell_type": "code",
   "execution_count": null,
   "metadata": {},
   "outputs": [],
   "source": [
    "train = vectorizer.fit_transform(X_train)"
   ]
  },
  {
   "cell_type": "code",
   "execution_count": null,
   "metadata": {},
   "outputs": [],
   "source": [
    "test = vectorizer.transform(X_test)"
   ]
  },
  {
   "cell_type": "code",
   "execution_count": null,
   "metadata": {},
   "outputs": [],
   "source": [
    "XGB_model = XGBClassifier()"
   ]
  },
  {
   "cell_type": "code",
   "execution_count": null,
   "metadata": {},
   "outputs": [],
   "source": [
    "XGB_model.fit(XGB_train, y_train)\n",
    "\n",
    "XGB_model.save_model(\"XGB_model.bin\")"
   ]
  },
  {
   "cell_type": "code",
   "execution_count": null,
   "metadata": {},
   "outputs": [],
   "source": [
    "XGB_model.load_model(\"XGB_model.bin\")"
   ]
  },
  {
   "cell_type": "code",
   "execution_count": null,
   "metadata": {},
   "outputs": [],
   "source": [
    "XGB_pred = XGB_model.predict(test)\n",
    "\n",
    "with open('XGB_pred', 'wb') as f:\n",
    "     pickle.dump(XGB_pred, f)"
   ]
  },
  {
   "cell_type": "code",
   "execution_count": 6,
   "metadata": {},
   "outputs": [],
   "source": [
    "with open('XGB_pred', 'rb') as f:\n",
    "     XGB_pred = pickle.load(f)"
   ]
  },
  {
   "cell_type": "code",
   "execution_count": 7,
   "metadata": {},
   "outputs": [],
   "source": [
    "XGB_auc = roc_auc_score(y_test, XGB_pred)"
   ]
  },
  {
   "cell_type": "code",
   "execution_count": 8,
   "metadata": {},
   "outputs": [
    {
     "name": "stdout",
     "output_type": "stream",
     "text": [
      "SCORE: 0.85914\n"
     ]
    }
   ],
   "source": [
    "print (\"SCORE:\", XGB_auc)"
   ]
  },
  {
   "cell_type": "markdown",
   "metadata": {},
   "source": [
    "### Building RNN LSTM classifier"
   ]
  },
  {
   "cell_type": "markdown",
   "metadata": {},
   "source": [
    "#### Read data"
   ]
  },
  {
   "cell_type": "code",
   "execution_count": null,
   "metadata": {},
   "outputs": [],
   "source": [
    "#Since I have limited computing power, I had to take twice less of the given dataset\n",
    "train_data_len = int(len(X_train)*0.5)\n",
    "test_data_len = int(len(X_test)*0.5)"
   ]
  },
  {
   "cell_type": "code",
   "execution_count": null,
   "metadata": {},
   "outputs": [],
   "source": [
    "train_text = X_train[:train_data_len]\n",
    "train_labels = y_train[:train_data_len]"
   ]
  },
  {
   "cell_type": "code",
   "execution_count": null,
   "metadata": {},
   "outputs": [],
   "source": [
    "test_text = X_test[:test_data_len]\n",
    "test_labels = y_test[:test_data_len]"
   ]
  },
  {
   "cell_type": "code",
   "execution_count": null,
   "metadata": {},
   "outputs": [],
   "source": [
    "print('Train len: '+ str(len(train_labels)))\n",
    "print('Test len: '+ str(len(test_labels)))"
   ]
  },
  {
   "cell_type": "code",
   "execution_count": null,
   "metadata": {},
   "outputs": [],
   "source": [
    "train_data = pd.DataFrame(list(zip(train_text, train_labels)))\n",
    "train_data.columns = {'text', 'labels'}"
   ]
  },
  {
   "cell_type": "code",
   "execution_count": null,
   "metadata": {},
   "outputs": [],
   "source": [
    "test_data = pd.DataFrame(list(zip(test_text, test_labels)))\n",
    "test_data.columns = {'text', 'labels'}"
   ]
  },
  {
   "cell_type": "markdown",
   "metadata": {},
   "source": [
    "#### Clean train & test data"
   ]
  },
  {
   "cell_type": "code",
   "execution_count": null,
   "metadata": {},
   "outputs": [],
   "source": [
    "def remove_punct(text):\n",
    "    text_nopunct = ''\n",
    "    text_nopunct = re.sub('['+string.punctuation+']', '', text)\n",
    "    return text_nopunct"
   ]
  },
  {
   "cell_type": "code",
   "execution_count": null,
   "metadata": {},
   "outputs": [],
   "source": [
    "train_data['Text_Clean'] = train_data['text'].apply(lambda x: remove_punct(x))"
   ]
  },
  {
   "cell_type": "code",
   "execution_count": null,
   "metadata": {},
   "outputs": [],
   "source": [
    "test_data['Text_Clean'] = test_data['text'].apply(lambda x: remove_punct(x))"
   ]
  },
  {
   "cell_type": "code",
   "execution_count": null,
   "metadata": {},
   "outputs": [],
   "source": [
    "train_tokens = [word_tokenize(sen) for sen in train_data.Text_Clean]"
   ]
  },
  {
   "cell_type": "code",
   "execution_count": null,
   "metadata": {},
   "outputs": [],
   "source": [
    "test_tokens = [word_tokenize(sen) for sen in test_data.Text_Clean]"
   ]
  },
  {
   "cell_type": "code",
   "execution_count": null,
   "metadata": {},
   "outputs": [],
   "source": [
    "def lower_token(tokens): \n",
    "    return [w.lower() for w in tokens]"
   ]
  },
  {
   "cell_type": "code",
   "execution_count": null,
   "metadata": {},
   "outputs": [],
   "source": [
    "lower_train_tokens = [lower_token(token) for token in train_tokens]"
   ]
  },
  {
   "cell_type": "code",
   "execution_count": null,
   "metadata": {},
   "outputs": [],
   "source": [
    "lower_test_tokens = [lower_token(token) for token in test_tokens]"
   ]
  },
  {
   "cell_type": "code",
   "execution_count": null,
   "metadata": {},
   "outputs": [],
   "source": [
    "def removeStopWords(tokens): \n",
    "    return [word for word in tokens if word not in stop_words]"
   ]
  },
  {
   "cell_type": "code",
   "execution_count": null,
   "metadata": {},
   "outputs": [],
   "source": [
    "filtered_train_words = [removeStopWords(sen) for sen in lower_train_tokens]"
   ]
  },
  {
   "cell_type": "code",
   "execution_count": null,
   "metadata": {},
   "outputs": [],
   "source": [
    "filtered_test_words = [removeStopWords(sen) for sen in lower_test_tokens]"
   ]
  },
  {
   "cell_type": "code",
   "execution_count": null,
   "metadata": {},
   "outputs": [],
   "source": [
    "train_data['Text_Final'] = [' '.join(sen) for sen in filtered_train_words]\n",
    "train_data['tokens'] = filtered_train_words"
   ]
  },
  {
   "cell_type": "code",
   "execution_count": null,
   "metadata": {},
   "outputs": [],
   "source": [
    "test_data['Text_Final'] = [' '.join(sen) for sen in filtered_test_words]\n",
    "test_data['tokens'] = filtered_test_words"
   ]
  },
  {
   "cell_type": "code",
   "execution_count": null,
   "metadata": {},
   "outputs": [],
   "source": [
    "pos = []\n",
    "neg = []\n",
    "\n",
    "for l in train_data.labels:\n",
    "    if l == 0:\n",
    "        pos.append(0)\n",
    "        neg.append(1)\n",
    "    elif l == 1:\n",
    "        pos.append(1)\n",
    "        neg.append(0)\n",
    "        \n",
    "train_data['Pos']= pos\n",
    "train_data['Neg']= neg\n",
    "\n",
    "train_data = train_data[['Text_Final', 'tokens', 'labels', 'Pos', 'Neg']]\n",
    "train_data.head()\n",
    "\n",
    "with open('train_data', 'wb') as f:\n",
    "     pickle.dump(train_data, f)"
   ]
  },
  {
   "cell_type": "code",
   "execution_count": null,
   "metadata": {},
   "outputs": [],
   "source": [
    "pos = []\n",
    "neg = []\n",
    "\n",
    "for l in test_data.labels:\n",
    "    if l == 0:\n",
    "        pos.append(0)\n",
    "        neg.append(1)\n",
    "    elif l == 1:\n",
    "        pos.append(1)\n",
    "        neg.append(0)\n",
    "        \n",
    "test_data['Pos']= pos\n",
    "test_data['Neg']= neg\n",
    "\n",
    "test_data = test_data[['Text_Final', 'tokens', 'labels', 'Pos', 'Neg']]\n",
    "test_data.head()\n",
    "\n",
    "with open('test_data', 'wb') as f:\n",
    "     pickle.dump(test_data, f)"
   ]
  },
  {
   "cell_type": "code",
   "execution_count": 9,
   "metadata": {},
   "outputs": [],
   "source": [
    "with open('train_data', 'rb') as f:\n",
    "     train_data = pickle.load(f)\n",
    "        \n",
    "with open('test_data', 'rb') as f:\n",
    "     test_data = pickle.load(f)"
   ]
  },
  {
   "cell_type": "code",
   "execution_count": 10,
   "metadata": {},
   "outputs": [
    {
     "name": "stdout",
     "output_type": "stream",
     "text": [
      "                                          Text_Final  \\\n",
      "0  great cd lovely pat one great voices generatio...   \n",
      "1  one best game music soundtracks game didnt rea...   \n",
      "2  batteries died within year bought charger jul ...   \n",
      "3  works fine maha energy better check maha energ...   \n",
      "4  great nonaudiophile reviewed quite bit combo p...   \n",
      "\n",
      "                                              tokens  labels  Pos  Neg  \n",
      "0  [great, cd, lovely, pat, one, great, voices, g...       1    1    0  \n",
      "1  [one, best, game, music, soundtracks, game, di...       1    1    0  \n",
      "2  [batteries, died, within, year, bought, charge...       0    0    1  \n",
      "3  [works, fine, maha, energy, better, check, mah...       1    1    0  \n",
      "4  [great, nonaudiophile, reviewed, quite, bit, c...       1    1    0  \n"
     ]
    }
   ],
   "source": [
    "print(test_data.head())"
   ]
  },
  {
   "cell_type": "code",
   "execution_count": 11,
   "metadata": {},
   "outputs": [
    {
     "name": "stdout",
     "output_type": "stream",
     "text": [
      "                                          Text_Final  \\\n",
      "0  stuning even nongamer sound track beautiful pa...   \n",
      "1  best soundtrack ever anything im reading lot r...   \n",
      "2  amazing soundtrack favorite music time hands i...   \n",
      "3  excellent soundtrack truly like soundtrack enj...   \n",
      "4  remember pull jaw floor hearing youve played g...   \n",
      "\n",
      "                                              tokens  labels  Pos  Neg  \n",
      "0  [stuning, even, nongamer, sound, track, beauti...       1    1    0  \n",
      "1  [best, soundtrack, ever, anything, im, reading...       1    1    0  \n",
      "2  [amazing, soundtrack, favorite, music, time, h...       1    1    0  \n",
      "3  [excellent, soundtrack, truly, like, soundtrac...       1    1    0  \n",
      "4  [remember, pull, jaw, floor, hearing, youve, p...       1    1    0  \n"
     ]
    }
   ],
   "source": [
    "print(train_data.head())"
   ]
  },
  {
   "cell_type": "markdown",
   "metadata": {},
   "source": [
    "#### Getting Vocabulary"
   ]
  },
  {
   "cell_type": "code",
   "execution_count": null,
   "metadata": {},
   "outputs": [],
   "source": [
    "all_training_words = [word for tokens in train_data[\"tokens\"] for word in tokens]\n",
    "training_sentence_lengths = [len(tokens) for tokens in train_data[\"tokens\"]]\n",
    "training_vocab = sorted(list(set(all_training_words)))\n",
    "\n",
    "print(\"%s words total, with a vocabulary size of %s\" % (len(all_training_words), len(training_vocab)))\n",
    "print(\"Max sentence length is %s\" % max(training_sentence_lengths))"
   ]
  },
  {
   "cell_type": "code",
   "execution_count": null,
   "metadata": {},
   "outputs": [],
   "source": [
    "all_test_words = [word for tokens in test_data[\"tokens\"] for word in tokens]\n",
    "test_sentence_lengths = [len(tokens) for tokens in test_data[\"tokens\"]]\n",
    "test_vocab = sorted(list(set(all_test_words)))\n",
    "\n",
    "print(\"%s words total, with a vocabulary size of %s\" % (len(all_test_words), len(test_vocab)))\n",
    "print(\"Max sentence length is %s\" % max(test_sentence_lengths))"
   ]
  },
  {
   "cell_type": "markdown",
   "metadata": {},
   "source": [
    "#### Tokenize and Pad sequences"
   ]
  },
  {
   "cell_type": "code",
   "execution_count": null,
   "metadata": {},
   "outputs": [],
   "source": [
    "tokenizer = Tokenizer(num_words=len(training_vocab), lower=True, char_level=False, oov_token=True)\n",
    "tokenizer.fit_on_texts(train_data[\"Text_Final\"].tolist())"
   ]
  },
  {
   "cell_type": "code",
   "execution_count": null,
   "metadata": {},
   "outputs": [],
   "source": [
    "train_word_index = tokenizer.word_index\n",
    "print(\"Found %s unique tokens.\" % len(train_word_index))"
   ]
  },
  {
   "cell_type": "code",
   "execution_count": null,
   "metadata": {},
   "outputs": [],
   "source": [
    "training_sequences = tokenizer.texts_to_sequences(train_data[\"Text_Final\"].tolist())\n",
    "train_rnn_data = pad_sequences(training_sequences, maxlen=150)"
   ]
  },
  {
   "cell_type": "code",
   "execution_count": null,
   "metadata": {},
   "outputs": [],
   "source": [
    "with open('train_rnn_data', 'wb') as f:\n",
    "     pickle.dump(train_rnn_data, f)"
   ]
  },
  {
   "cell_type": "code",
   "execution_count": null,
   "metadata": {},
   "outputs": [],
   "source": [
    "test_sequences = tokenizer.texts_to_sequences(test_data[\"Text_Final\"].tolist())\n",
    "test_rnn_data = pad_sequences(test_sequences, maxlen=150)\n",
    "\n",
    "with open('test_rnn_data', 'wb') as f:\n",
    "     pickle.dump(test_rnn_data, f)"
   ]
  },
  {
   "cell_type": "markdown",
   "metadata": {},
   "source": [
    "#### Define RNN-LSTM"
   ]
  },
  {
   "cell_type": "code",
   "execution_count": 13,
   "metadata": {},
   "outputs": [],
   "source": [
    "label_names = ['Pos', 'Neg']"
   ]
  },
  {
   "cell_type": "code",
   "execution_count": 14,
   "metadata": {},
   "outputs": [],
   "source": [
    "with open('train_rnn_data', 'rb') as f:\n",
    "     x_tr = pickle.load(f)\n",
    "        \n",
    "y_tr = train_data[label_names].values"
   ]
  },
  {
   "cell_type": "code",
   "execution_count": 15,
   "metadata": {},
   "outputs": [
    {
     "name": "stdout",
     "output_type": "stream",
     "text": [
      "Model: \"sequential_1\"\n",
      "_________________________________________________________________\n",
      "Layer (type)                 Output Shape              Param #   \n",
      "=================================================================\n",
      "embedding_1 (Embedding)      (None, 150, 128)          256000    \n",
      "_________________________________________________________________\n",
      "spatial_dropout1d_1 (Spatial (None, 150, 128)          0         \n",
      "_________________________________________________________________\n",
      "lstm_1 (LSTM)                (None, 256)               394240    \n",
      "_________________________________________________________________\n",
      "dense_1 (Dense)              (None, 2)                 514       \n",
      "=================================================================\n",
      "Total params: 650,754\n",
      "Trainable params: 650,754\n",
      "Non-trainable params: 0\n",
      "_________________________________________________________________\n",
      "None\n"
     ]
    }
   ],
   "source": [
    "embed_dim = 128\n",
    "max_fatures = 2000\n",
    "\n",
    "rnn_model = Sequential()\n",
    "rnn_model.add(Embedding(max_fatures, embed_dim, input_length = x_tr.shape[1]))\n",
    "rnn_model.add(SpatialDropout1D(0.4))\n",
    "\n",
    "rnn_model.add(LSTM(256, dropout=0.2, recurrent_dropout=0.2))\n",
    "\n",
    "rnn_model.add(Dense(2,activation='softmax'))\n",
    "\n",
    "rnn_model.compile(loss = 'categorical_crossentropy', optimizer='adam',metrics = ['accuracy'])\n",
    "print(rnn_model.summary())"
   ]
  },
  {
   "cell_type": "code",
   "execution_count": null,
   "metadata": {},
   "outputs": [],
   "source": [
    "#Create a file with RNN weights\n",
    "filename = \"rnn_model.hdf5\"\n",
    "filepath = \"rnn_model.hdf5\""
   ]
  },
  {
   "cell_type": "code",
   "execution_count": null,
   "metadata": {},
   "outputs": [],
   "source": [
    "callbacks = [ModelCheckpoint(filepath, monitor='loss', verbose=1, save_best_only=True, mode='min')]"
   ]
  },
  {
   "cell_type": "code",
   "execution_count": null,
   "metadata": {
    "scrolled": true
   },
   "outputs": [],
   "source": [
    "hist = rnn_model.fit(x_tr, y_tr, epochs=20, batch_size=512, callbacks=callbacks)\n",
    "\n",
    "with open('hist', 'wb') as f:\n",
    "     pickle.dump(hist, f)"
   ]
  },
  {
   "cell_type": "code",
   "execution_count": 17,
   "metadata": {},
   "outputs": [
    {
     "name": "stderr",
     "output_type": "stream",
     "text": [
      "C:\\Users\\danil\\Anaconda3\\envs\\PythonGPU\\lib\\site-packages\\tensorflow_core\\python\\framework\\indexed_slices.py:433: UserWarning: Converting sparse IndexedSlices to a dense Tensor of unknown shape. This may consume a large amount of memory.\n",
      "  \"Converting sparse IndexedSlices to a dense Tensor of unknown shape. \"\n"
     ]
    }
   ],
   "source": [
    "with open('hist', 'rb') as f:\n",
    "     hist = pickle.load(f)"
   ]
  },
  {
   "cell_type": "code",
   "execution_count": null,
   "metadata": {},
   "outputs": [],
   "source": [
    "#Loading pre-trained weights\n",
    "rnn_model.load_weights(filename)"
   ]
  },
  {
   "cell_type": "code",
   "execution_count": 18,
   "metadata": {},
   "outputs": [
    {
     "data": {
      "image/png": "[encoded data removed]",
      "text/plain": [
       "<Figure size 432x288 with 1 Axes>"
      ]
     },
     "metadata": {
      "needs_background": "light"
     },
     "output_type": "display_data"
    }
   ],
   "source": [
    "# Plot loss values\n",
    "plt.plot(hist.history['loss'])\n",
    "plt.title('Model loss')\n",
    "plt.ylabel('Loss')\n",
    "plt.xlabel('Epoch')\n",
    "plt.show()"
   ]
  },
  {
   "cell_type": "code",
   "execution_count": null,
   "metadata": {
    "scrolled": true
   },
   "outputs": [],
   "source": [
    "with open('test_rnn_data', 'rb') as f:\n",
    "     x_te = pickle.load(f)"
   ]
  },
  {
   "cell_type": "code",
   "execution_count": null,
   "metadata": {},
   "outputs": [],
   "source": [
    "y_te = test_data[label_names].values"
   ]
  },
  {
   "cell_type": "code",
   "execution_count": null,
   "metadata": {},
   "outputs": [],
   "source": [
    "rnn_pred = rnn_model.predict(x_te, batch_size=512, verbose=1)"
   ]
  },
  {
   "cell_type": "code",
   "execution_count": null,
   "metadata": {},
   "outputs": [],
   "source": [
    "rnn_pred_label = []\n",
    "for i in rnn_pred:\n",
    "    if i[0]>i[1]:\n",
    "        rnn_pred_label.append(1)\n",
    "    else:\n",
    "        rnn_pred_label.append(0)\n",
    "        \n",
    "with open('rnn_pred_label', 'wb') as f:\n",
    "     pickle.dump(rnn_pred_label, f)"
   ]
  },
  {
   "cell_type": "code",
   "execution_count": 19,
   "metadata": {},
   "outputs": [],
   "source": [
    "with open('rnn_pred_label', 'rb') as f:\n",
    "     rnn_pred_label = pickle.load(f)\n",
    "        \n",
    "y_label = test_data['labels'].values"
   ]
  },
  {
   "cell_type": "code",
   "execution_count": 20,
   "metadata": {},
   "outputs": [],
   "source": [
    "rnn_auc = roc_auc_score(y_label, rnn_pred_label)"
   ]
  },
  {
   "cell_type": "code",
   "execution_count": 21,
   "metadata": {},
   "outputs": [
    {
     "name": "stdout",
     "output_type": "stream",
     "text": [
      "SCORE: 0.9197318438897866\n"
     ]
    }
   ],
   "source": [
    "print (\"SCORE:\", rnn_auc)"
   ]
  }
 ],
 "metadata": {
  "kernelspec": {
   "display_name": "Python 3",
   "language": "python",
   "name": "python3"
  },
  "language_info": {
   "codemirror_mode": {
    "name": "ipython",
    "version": 3
   },
   "file_extension": ".py",
   "mimetype": "text/x-python",
   "name": "python",
   "nbconvert_exporter": "python",
   "pygments_lexer": "ipython3",
   "version": "3.7.6"
  }
 },
 "nbformat": 4,
 "nbformat_minor": 4
}
